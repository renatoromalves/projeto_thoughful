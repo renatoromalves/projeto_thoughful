{
 "cells": [
  {
   "cell_type": "code",
   "execution_count": 2,
   "metadata": {},
   "outputs": [],
   "source": [
    "from RPA.Browser.Selenium import Selenium\n",
    "from selenium.common.exceptions import TimeoutException as TimeExpt"
   ]
  },
  {
   "cell_type": "code",
   "execution_count": 3,
   "metadata": {},
   "outputs": [
    {
     "data": {
      "text/plain": [
       "'5 minutes'"
      ]
     },
     "execution_count": 3,
     "metadata": {},
     "output_type": "execute_result"
    }
   ],
   "source": [
    "from datetime import timedelta\n",
    "browser = Selenium()\n",
    "timeout = timedelta(seconds=5)\n",
    "browser.set_selenium_page_load_timeout(timeout)"
   ]
  },
  {
   "cell_type": "code",
   "execution_count": 4,
   "metadata": {},
   "outputs": [
    {
     "name": "stderr",
     "output_type": "stream",
     "text": [
      "2024-07-26 01:36:17,465 - RPA.Browser.Selenium - INFO - Webdriver version taken into use: ChromeDriver 125.0.6422.76 (67dcf7562b8fb4ab0819135589e37a97bcc8942c-refs/branch-heads/6422@{#1086})\n",
      "\n",
      "2024-07-26 01:36:17,468 - RobotFramework - INFO - Creating an instance of the Chrome WebDriver.\n",
      "2024-07-26 01:36:18,835 - RPA.Browser.Selenium - INFO - Created Chrome browser (version 125.0.6422) with arguments: --disable-dev-shm-usage --disable-web-security --allow-running-insecure-content --no-sandbox\n",
      "2024-07-26 01:36:18,839 - RobotFramework - INFO - <p>Attempted combinations:</p><div class=\"doc\"><table><tr><th>Browser</th><th>Download</th><th>Error</th></tr><tr><td>Chrome</td><td>False</td><td></td></tr></table></div>\n",
      "2024-07-26 01:36:18,841 - RobotFramework - INFO - Opening url 'https://www.latimes.com/'\n"
     ]
    }
   ],
   "source": [
    "browser.open_available_browser('https://www.latimes.com/')\n"
   ]
  },
  {
   "cell_type": "code",
   "execution_count": null,
   "metadata": {},
   "outputs": [
    {
     "name": "stderr",
     "output_type": "stream",
     "text": [
      "2024-07-26 01:29:21,963 - RobotFramework - INFO - Clicking button 'css:[data-element='search-form-input']'.\n"
     ]
    }
   ],
   "source": [
    "browser.wait"
   ]
  },
  {
   "cell_type": "code",
   "execution_count": 1,
   "metadata": {},
   "outputs": [
    {
     "name": "stderr",
     "output_type": "stream",
     "text": [
      "2024-07-26 17:25:27,190 - RPA.core.certificates - INFO - Truststore not in use, HTTPS traffic validated against `certifi` package. (requires Python 3.10.12 and 'pip' 23.2.1 at minimum)\n",
      "2024-07-26 17:25:27,399 - app.scraper - INFO - Configuring months\n",
      "2024-07-26 17:25:27,400 - app.scraper - INFO - Selected months [202407, 202406]\n",
      "2024-07-26 17:25:27,402 - app.scraper - INFO - Configuring browser\n",
      "2024-07-26 17:25:27,548 - RPA.Browser.Selenium - INFO - Webdriver version taken into use: ChromeDriver 125.0.6422.76 (67dcf7562b8fb4ab0819135589e37a97bcc8942c-refs/branch-heads/6422@{#1086})\n",
      "\n",
      "2024-07-26 17:25:27,552 - RobotFramework - INFO - Creating an instance of the Chrome WebDriver.\n",
      "2024-07-26 17:25:30,363 - RPA.Browser.Selenium - INFO - Created Chrome browser (version 125.0.6422) with arguments: --disable-dev-shm-usage --disable-web-security --allow-running-insecure-content --no-sandbox\n",
      "2024-07-26 17:25:30,366 - RobotFramework - INFO - <p>Attempted combinations:</p><div class=\"doc\"><table><tr><th>Browser</th><th>Download</th><th>Error</th></tr><tr><td>Chrome</td><td>False</td><td></td></tr></table></div>\n",
      "2024-07-26 17:25:30,371 - app.scraper - INFO - Opening website\n",
      "2024-07-26 17:25:30,372 - RobotFramework - INFO - Opening url 'https://www.latimes.com/'\n",
      "2024-07-26 17:25:36,561 - app.scraper - INFO - Performing search. Search phrase: 'brazil\n",
      "2024-07-26 17:25:37,400 - app.scraper - INFO - Submiting search\n",
      "2024-07-26 17:25:39,802 - RobotFramework - INFO - Clicking button 'class:see-all-button'.\n",
      "2024-07-26 17:25:42,703 - app.scraper - INFO - Ordering search\n",
      "2024-07-26 17:25:48,047 - app.scraper - INFO - Error on order_search: Element 'class:loading-icon' did not appear in 5 seconds.\n",
      "2024-07-26 17:25:48,050 - app.scraper - INFO - Error on order_search: Traceback (most recent call last):\n",
      "  File \"/home/renato/projeto_thoughtful/app/scraper.py\", line 182, in _order_search\n",
      "    self.BROWSER.wait_until_page_contains_element('class:loading-icon')\n",
      "  File \"/home/renato/projeto_thoughtful/venv/lib/python3.8/site-packages/SeleniumLibrary/keywords/waiting.py\", line 247, in wait_until_page_contains_element\n",
      "    return self._wait_until(\n",
      "  File \"/home/renato/projeto_thoughtful/venv/lib/python3.8/site-packages/SeleniumLibrary/keywords/waiting.py\", line 426, in _wait_until\n",
      "    self._wait_until_worker(condition, timeout, error)\n",
      "  File \"/home/renato/projeto_thoughtful/venv/lib/python3.8/site-packages/SeleniumLibrary/keywords/waiting.py\", line 443, in _wait_until_worker\n",
      "    raise AssertionError(not_found or error)\n",
      "AssertionError: Element 'class:loading-icon' did not appear in 5 seconds.\n",
      "\n",
      "2024-07-26 17:25:48,053 - app.scraper - INFO - Extracting information from page\n",
      "2024-07-26 17:25:48,114 - app.scraper - INFO - Filtering news\n",
      "2024-07-26 17:25:48,115 - app.scraper - INFO - Extracting information\n",
      "2024-07-26 17:25:48,253 - root - INFO - Checking if there's image to download\n",
      "2024-07-26 17:25:48,292 - app.scraper - INFO - Downloading image\n",
      "2024-07-26 17:25:48,489 - app.scraper - INFO - Filtering news\n",
      "2024-07-26 17:25:48,491 - app.scraper - INFO - Extracting information\n",
      "2024-07-26 17:25:48,608 - root - INFO - Checking if there's image to download\n",
      "2024-07-26 17:25:48,638 - app.scraper - INFO - Downloading image\n",
      "2024-07-26 17:25:48,853 - app.scraper - INFO - Filtering news\n",
      "2024-07-26 17:25:48,855 - app.scraper - INFO - Extracting information\n",
      "2024-07-26 17:25:48,969 - root - INFO - Checking if there's image to download\n",
      "2024-07-26 17:25:48,998 - app.scraper - INFO - Downloading image\n",
      "2024-07-26 17:25:49,191 - app.scraper - INFO - Filtering news\n",
      "2024-07-26 17:25:49,193 - app.scraper - INFO - Extracting information\n",
      "2024-07-26 17:25:49,318 - root - INFO - Checking if there's image to download\n",
      "2024-07-26 17:25:49,348 - app.scraper - INFO - Downloading image\n",
      "2024-07-26 17:25:49,545 - app.scraper - INFO - Filtering news\n",
      "2024-07-26 17:25:49,547 - app.scraper - INFO - Extracting information\n",
      "2024-07-26 17:25:49,662 - root - INFO - Checking if there's image to download\n",
      "2024-07-26 17:25:49,693 - app.scraper - INFO - Downloading image\n",
      "2024-07-26 17:25:49,896 - app.scraper - INFO - Filtering news\n",
      "2024-07-26 17:25:49,897 - app.scraper - INFO - Extracting information\n",
      "2024-07-26 17:25:50,030 - root - INFO - Checking if there's image to download\n",
      "2024-07-26 17:25:50,064 - app.scraper - INFO - Downloading image\n",
      "2024-07-26 17:25:50,253 - app.scraper - INFO - Filtering news\n",
      "2024-07-26 17:25:50,254 - app.scraper - INFO - Extracting information\n",
      "2024-07-26 17:25:50,370 - root - INFO - Checking if there's image to download\n",
      "2024-07-26 17:25:50,401 - app.scraper - INFO - Downloading image\n",
      "2024-07-26 17:25:50,590 - app.scraper - INFO - Filtering news\n",
      "2024-07-26 17:25:50,591 - app.scraper - INFO - Extracting information\n",
      "2024-07-26 17:25:50,709 - root - INFO - Checking if there's image to download\n",
      "2024-07-26 17:25:50,745 - app.scraper - INFO - Downloading image\n",
      "2024-07-26 17:25:50,934 - app.scraper - INFO - Filtering news\n",
      "2024-07-26 17:25:50,935 - app.scraper - INFO - Extracting information\n",
      "2024-07-26 17:25:51,054 - root - INFO - Checking if there's image to download\n",
      "2024-07-26 17:25:51,087 - app.scraper - INFO - Downloading image\n",
      "2024-07-26 17:25:51,271 - app.scraper - INFO - Filtering news\n",
      "2024-07-26 17:25:51,272 - app.scraper - INFO - Extracting information\n",
      "2024-07-26 17:25:51,388 - root - INFO - Checking if there's image to download\n",
      "2024-07-26 17:25:51,420 - app.scraper - INFO - Downloading image\n",
      "2024-07-26 17:25:51,598 - app.scraper - INFO - Next page\n",
      "2024-07-26 17:25:53,488 - app.scraper - INFO - Extracting information from page\n",
      "2024-07-26 17:25:53,532 - app.scraper - INFO - Filtering news\n",
      "2024-07-26 17:25:53,534 - app.scraper - INFO - Extracting information\n",
      "2024-07-26 17:25:53,922 - root - INFO - Checking if there's image to download\n",
      "2024-07-26 17:25:53,958 - app.scraper - INFO - Downloading image\n",
      "2024-07-26 17:25:54,156 - app.scraper - INFO - Filtering news\n",
      "2024-07-26 17:25:54,157 - app.scraper - INFO - Extracting information\n",
      "2024-07-26 17:25:54,269 - root - INFO - Checking if there's image to download\n",
      "2024-07-26 17:25:54,298 - app.scraper - INFO - Downloading image\n",
      "2024-07-26 17:25:54,498 - app.scraper - INFO - Filtering news\n",
      "2024-07-26 17:25:54,647 - RPA.Excel.Files - INFO - Closing workbook: <RPA.Excel.Files.XlsxWorkbook object at 0x7f37ad424f70>\n",
      "2024-07-26 17:25:54,648 - app.scraper - INFO - Extraction finished, extracted 12 news\n"
     ]
    }
   ],
   "source": [
    "from app import FreshNews\n",
    "import time\n",
    "self = FreshNews(search_phrase=\"'Brazil\",category='WORLD',target_months=2)\n",
    "# self._goto_website()\n",
    "# self._search_info()\n",
    "# self._category_filter()\n",
    "# self._order_search()\n",
    "# self._extract_from_page()\n",
    "self._full_routine()"
   ]
  },
  {
   "cell_type": "code",
   "execution_count": 2,
   "metadata": {},
   "outputs": [
    {
     "data": {
      "text/plain": [
       "[{'title': 'World population is projected to grow from 8.2 billion to a peak of 10.3 billion in 2080s, U.N. says',\n",
       "  'description': 'A new U.N. report says the world’s population is expected to grow by more than 2 billion people in the next decades and peak in the 2080s at around 10.3 billion.',\n",
       "  'date': datetime.datetime(2024, 7, 12, 0, 0),\n",
       "  'phrase_count': 0,\n",
       "  'has_value': False,\n",
       "  'picture_filename': 'FILE - People take smartphone photos of the crowd on a street near Tiananmen Square as visitors gather to watch a flag-raising ceremony on the National Day in Beijing, Sunday, Oct. 1, 2023. The world’s population is expected to grow by more than 2 billion people in the next decades and peak in the 2080s at around 10.3 billion, a new report by the United Nations said Thursday July 11, 2024. (AP Photo/Andy Wong, File)',\n",
       "  'saved_filename': 'output/World population is projected to grow from 8.2 billion to a peak of 10.3 billion in 2080s, U.N. says.jpg'},\n",
       " {'title': 'U.S. sanctions Venezuela gang for spreading criminal activity across Latin America',\n",
       "  'description': 'The U.S. is offering a $12 million reward for the arrest of the leaders of Tren de Aragua gang it deems a transnational criminal organization.',\n",
       "  'date': datetime.datetime(2024, 7, 11, 0, 0),\n",
       "  'phrase_count': 0,\n",
       "  'has_value': False,\n",
       "  'picture_filename': 'Venezuelan President Nicolas Maduro throws a cap to supporters during a campaign rally in the Boulevard of Coche in Caracas, Venezuela, Monday, July 8, 2024. (AP Photo/Ariana Cubillos)',\n",
       "  'saved_filename': 'output/U.S. sanctions Venezuela gang for spreading criminal activity across Latin America.jpg'},\n",
       " {'title': 'AI is learning from what you said on Reddit, Stack Overflow or Facebook. Are you OK with that?',\n",
       "  'description': 'Post a comment on Reddit, answer coding questions on Stack Overflow or share a baby photo on your public Facebook or Instagram feed, and you are also helping to train the next generation of artificial intelligence.',\n",
       "  'date': datetime.datetime(2024, 7, 8, 0, 0),\n",
       "  'phrase_count': 0,\n",
       "  'has_value': False,\n",
       "  'picture_filename': 'Stack Overflow CEO Prashanth Chandrasekar poses on May 21, 2024, in Cambridge, Mass. Chandrasekar said the company is trying to balance rising demand for instant chatbot-generated coding assistance with the desire for a community \"knowledge base\" where people still want to post and \"get recognized\" for what they\\'ve contributed. (AP Photo/Matt O\\'Brien)',\n",
       "  'saved_filename': 'output/AI is learning from what you said on Reddit, Stack Overflow or Facebook. Are you OK with that?.jpg'},\n",
       " {'title': 'Brazil’s Bolsonaro formally accused of money laundering for diamonds from Saudi Arabia',\n",
       "  'description': 'Former Brazilian far-right President Jair Bolsonaro is indicted by police on money laundering in connection with undeclared diamonds from Saudi Arabia.',\n",
       "  'date': datetime.datetime(2024, 7, 5, 0, 0),\n",
       "  'phrase_count': 0,\n",
       "  'has_value': False,\n",
       "  'picture_filename': \"FILE - This photo provided by Brazil's Federal Revenue Department shows jewelry, part of an investigation into gifts received by ex-President Jair Bolsonaro during his term, seized by customs authorities at Guarulhos International Airport in Sao Paulo, Brazil, the week of March 24, 2023. Brazilian police indicted Bolsonaro on Thursday, July 4, 2024, for money laundering and criminal association, sources say. (Brazil's Federal Revenue Department via AP, File)\",\n",
       "  'saved_filename': 'output/Brazil’s Bolsonaro formally accused of money laundering for diamonds from Saudi Arabia.jpg'},\n",
       " {'title': 'Judge acquits 28 people accused in ‘Panama Papers’ case, including law firm co-founder',\n",
       "  'description': 'A judge has acquitted 28 people accused of money laundering in an international case known as the Panama Papers.',\n",
       "  'date': datetime.datetime(2024, 6, 29, 0, 0),\n",
       "  'phrase_count': 0,\n",
       "  'has_value': False,\n",
       "  'picture_filename': 'FILE - Juergen Mossack, partner of the law firm Mossack-Fonseca, leaves the Supreme Court during the trial of the \"Panama Papers\" money laundering case in Panama City, April 8, 2024. On Friday, a Panamanian judge acquitted Mossack and 27 other people who were accused of money laundering in the notorious Panama Papers case. (AP Photo/Agustin Herrera, File)',\n",
       "  'saved_filename': 'output/Judge acquits 28 people accused in ‘Panama Papers’ case, including law firm co-founder.jpg'},\n",
       " {'title': 'Brazil’s Supreme Court decriminalizes possession of marijuana for personal use',\n",
       "  'description': 'All the justices who have voted in favor said decriminalization should be restricted to possession of marijuana in amounts suitable for personal use.',\n",
       "  'date': datetime.datetime(2024, 6, 25, 0, 0),\n",
       "  'phrase_count': 0,\n",
       "  'has_value': False,\n",
       "  'picture_filename': 'FILE - Supreme Court justices preside over a trial in Brasilia, Brazil, June 30, 2023. Brazil’s Supreme Court on Tuesday, June 25, 2024, moved toward decriminalizing possession of marijuana for personal use. (AP Photo/Eraldo Peres, File)',\n",
       "  'saved_filename': 'output/Brazil’s Supreme Court decriminalizes possession of marijuana for personal use.jpg'},\n",
       " {'title': 'Bitter political fight in Bolivia is paralyzing the government',\n",
       "  'description': 'Unrest boils over economic crisis as prices are surging, dollars are scarce and lines snake away from supply-strapped gas stations.',\n",
       "  'date': datetime.datetime(2024, 6, 23, 0, 0),\n",
       "  'phrase_count': 0,\n",
       "  'has_value': False,\n",
       "  'picture_filename': 'FILE - A supporter attends the Movement for Socialism or MAS party convention to elect a new leader to replace former President Evo Morales, in El Alto, Bolivia, May 4, 2024. President Luis Arce and his one-time ally, ex-President Evo Morales, are battling for the future of MAS ahead of the presidential election in 2025. (AP Photo/Juan Karita, File)',\n",
       "  'saved_filename': 'output/Bitter political fight in Bolivia is paralyzing the government.jpg'},\n",
       " {'title': 'Nearly 80 countries at Swiss summit agree Ukraine’s ‘territorial integrity’ is key to peace',\n",
       "  'description': 'The joint communique capped a two-day conference in Switzerland marked by the absence of Russia and China.',\n",
       "  'date': datetime.datetime(2024, 6, 16, 0, 0),\n",
       "  'phrase_count': 0,\n",
       "  'has_value': False,\n",
       "  'picture_filename': \"Ukraine's President Volodymyr Zelenskyy hugs with Canada Prime Minister Justin Trudeau during the closing press conference of the Ukraine peace summit in Obbürgen, Switzerland, Sunday, June 16, 2024. Switzerland is hosting scores of world leaders this weekend to try to map out the first steps toward peace in Ukraine. (AP Photo/Laurent Cipriani)\",\n",
       "  'saved_filename': 'output/Nearly 80 countries at Swiss summit agree Ukraine’s ‘territorial integrity’ is key to peace.jpg'},\n",
       " {'title': 'U.S. supports ‘a just and lasting peace’ for Ukraine, Harris tells Zelensky at summit',\n",
       "  'description': 'Dozens of world leaders meet in Switzerland to discuss how to bring peace to war-ravaged Ukraine, though hopes are muted by Russia’s absence.',\n",
       "  'date': datetime.datetime(2024, 6, 15, 0, 0),\n",
       "  'phrase_count': 0,\n",
       "  'has_value': False,\n",
       "  'picture_filename': 'US Vice President Kamala Harris touches the arm of Ukrainian President Volodymyr Zelensky.',\n",
       "  'saved_filename': 'output/U.S. supports ‘a just and lasting peace’ for Ukraine, Harris tells Zelensky at summit.jpg'},\n",
       " {'title': 'About 90 countries to take part in Swiss-hosted Ukraine peace summit. Russia won’t attend',\n",
       "  'description': 'Switzerland’s president says nearly 90 countries and organizations, half from Europe, have confirmed attending the Swiss-hosted Ukraine peace summit.',\n",
       "  'date': datetime.datetime(2024, 6, 10, 0, 0),\n",
       "  'phrase_count': 0,\n",
       "  'has_value': False,\n",
       "  'picture_filename': 'Swiss Federal Councillor Ignazio Cassis, right, and Swiss Federal Councillor Viola Amherd take part in a media conference on the peace conference in Bern, Switzerland,Monday, June 10, 2024. Switzerland’s president says nearly 90 countries and organizations, half from Europe, have confirmed attending the Swiss-hosted Ukraine peace summit on June 15-16 despite Russia’s refusal to participate. Viola Amherd told reporters Monday that the summit will aim to chart a path toward possible peace nearly 28 months after Russian forces invaded Ukraine. (Peter Schneider/Keystone via AP)',\n",
       "  'saved_filename': 'output/About 90 countries to take part in Swiss-hosted Ukraine peace summit. Russia won’t attend.jpg'},\n",
       " {'title': 'President Milei’s surprising devotion to Judaism and Israel provokes tension in Argentina, beyond',\n",
       "  'description': 'Argentine President Javier Milei has gone further in his support of Israeli Prime Minister Benjamin Netanyahu’s government than perhaps any other world leader.',\n",
       "  'date': datetime.datetime(2024, 6, 4, 0, 0),\n",
       "  'phrase_count': 0,\n",
       "  'has_value': False,\n",
       "  'picture_filename': \"FILE- Argentine President Javier Milei prays at the Western Wall in Jerusalem's Old City, Feb. 6, 2024. Although born and raised Roman Catholic, Milei has increasingly shown public interest in Judaism and even expressed intentions to convert. (AP Photo/Leo Correa, File)\",\n",
       "  'saved_filename': 'output/President Milei’s surprising devotion to Judaism and Israel provokes tension in Argentina, beyond.jpg'},\n",
       " {'title': 'U.N. official highlights how better preparation has shrunk disaster deaths despite worsening climate',\n",
       "  'description': 'United Nations official says though climate change intensifies disasters like cyclones, floods and droughts, planning means events kill fewer people.',\n",
       "  'date': datetime.datetime(2024, 6, 1, 0, 0),\n",
       "  'phrase_count': 0,\n",
       "  'has_value': False,\n",
       "  'picture_filename': 'FILE - A polling official enjoys a cooling spray of water under intense heat at a distribution venue for Electronic Voting Machines (EVMs) and other election material on the eve of the fifth phase of polling in the six-week-long national election in Lucknow, India, Sunday, May 19, 2024. A top United Nations official says even though climate change makes disasters such as cyclones, floods and droughts more intense, more frequent and striking more places, fewer people are dying from those catastrophes globally. Thats because of better warning, planning and resilience. (AP Photo/Rajesh Kumar Singh, File)',\n",
       "  'saved_filename': 'output/U.N. official highlights how better preparation has shrunk disaster deaths despite worsening climate.jpg'}]"
      ]
     },
     "execution_count": 2,
     "metadata": {},
     "output_type": "execute_result"
    }
   ],
   "source": [
    "self.ALL_DATA"
   ]
  },
  {
   "cell_type": "code",
   "execution_count": 3,
   "metadata": {},
   "outputs": [],
   "source": [
    "news.BROWSER.find_element('class:search-results-module-aside').click()\n",
    "news.BROWSER.find_element('class:see-all-button').click()\n",
    "topics = news.BROWSER.find_elements('class:search-filter-menu > li')\n",
    "for topic in topics:\n",
    "    topic_name = topic.text.split('\\n')[0]\n",
    "    if "
   ]
  },
  {
   "cell_type": "code",
   "execution_count": 7,
   "metadata": {},
   "outputs": [],
   "source": [
    "topics = news.BROWSER.find_elements('class:search-filter-menu > li')"
   ]
  },
  {
   "cell_type": "code",
   "execution_count": 11,
   "metadata": {},
   "outputs": [],
   "source": [
    "topics[0].find_element('css selector','.checkbox-input').click()"
   ]
  },
  {
   "cell_type": "code",
   "execution_count": 13,
   "metadata": {},
   "outputs": [],
   "source": [
    "category = 'blog'\n",
    "for topic in topics:\n",
    "    topic_name = topic.text.split('\\n')[0].lower()\n",
    "    if category in topic_name:\n",
    "        topic.find_element('css selector','.checkbox-input').click()"
   ]
  },
  {
   "cell_type": "code",
   "execution_count": 14,
   "metadata": {},
   "outputs": [],
   "source": [
    "news.BROWSER.find_element('class:search-results-module-filters-apply').click()"
   ]
  },
  {
   "cell_type": "code",
   "execution_count": null,
   "metadata": {},
   "outputs": [],
   "source": [
    "image = elem.find_element(\"css selector\", \"img\")"
   ]
  },
  {
   "cell_type": "code",
   "execution_count": null,
   "metadata": {},
   "outputs": [
    {
     "data": {
      "text/plain": [
       "True"
      ]
     },
     "execution_count": 12,
     "metadata": {},
     "output_type": "execute_result"
    }
   ],
   "source": [
    "image.screenshot('teste.png')"
   ]
  },
  {
   "cell_type": "code",
   "execution_count": null,
   "metadata": {},
   "outputs": [
    {
     "data": {
      "text/plain": [
       "'/home/renato/projeto_thoughtful'"
      ]
     },
     "execution_count": 1,
     "metadata": {},
     "output_type": "execute_result"
    }
   ],
   "source": [
    "import os\n",
    "os.path.abspath(\".\")"
   ]
  },
  {
   "cell_type": "code",
   "execution_count": 2,
   "metadata": {},
   "outputs": [
    {
     "data": {
      "text/plain": [
       "[]"
      ]
     },
     "execution_count": 2,
     "metadata": {},
     "output_type": "execute_result"
    }
   ],
   "source": [
    "self.ALL_DATA"
   ]
  },
  {
   "cell_type": "code",
   "execution_count": 3,
   "metadata": {},
   "outputs": [],
   "source": [
    "from RPA.Excel.Files import Files\n",
    "excel = Files()"
   ]
  },
  {
   "cell_type": "code",
   "execution_count": 4,
   "metadata": {},
   "outputs": [
    {
     "data": {
      "text/plain": [
       "<RPA.Excel.Files.XlsxWorkbook at 0x7f141c730a90>"
      ]
     },
     "execution_count": 4,
     "metadata": {},
     "output_type": "execute_result"
    }
   ],
   "source": [
    "excel = Files()\n",
    "excel.create_workbook('output/teste.xlsx')"
   ]
  },
  {
   "cell_type": "code",
   "execution_count": 7,
   "metadata": {},
   "outputs": [
    {
     "data": {
      "text/plain": [
       "['Sheet']"
      ]
     },
     "execution_count": 7,
     "metadata": {},
     "output_type": "execute_result"
    }
   ],
   "source": [
    "excel.list_worksheets()"
   ]
  },
  {
   "cell_type": "code",
   "execution_count": 12,
   "metadata": {},
   "outputs": [],
   "source": [
    "header = [\"Title\", \"Description\", \"Date\", \"Month\", \"Phrase Count\", \"Has Value\", \"Picture Filename\"]\n",
    "excel.append_rows_to_worksheet([header], \"Sheet\")\n",
    "for data in news.ALL_DATA:\n",
    "    row = [\n",
    "        data['title'],\n",
    "        data['description'],\n",
    "        data['date'],\n",
    "        data['month'],\n",
    "        data['phrase_count'],\n",
    "        data['has_value'],\n",
    "        data['picture_filename']\n",
    "    ]\n",
    "    excel.append_rows_to_worksheet([row], \"Sheet\")"
   ]
  },
  {
   "cell_type": "code",
   "execution_count": 13,
   "metadata": {},
   "outputs": [],
   "source": [
    "excel.save_workbook('output/teste.xlsx')"
   ]
  },
  {
   "cell_type": "code",
   "execution_count": 7,
   "metadata": {},
   "outputs": [
    {
     "data": {
      "text/plain": [
       "dict_values(['Column: 1984 Olympic Arts Festival all but reinvented L.A. Why the 2028 Games could do the same', 'Column: 1984 Olympic Arts Festival all but reinvented L.A. Why the 2028 Games could do the same', datetime.datetime(2024, 7, 26, 8, 38, 39, 649385), 7, 0, False, 'Japanese dancers in traditional costumes perform July 20, 1984, as part of the Olympic Arts Festival in Los Angeles.'])"
      ]
     },
     "execution_count": 7,
     "metadata": {},
     "output_type": "execute_result"
    }
   ],
   "source": [
    "news.ALL_DATA[1].values()"
   ]
  },
  {
   "cell_type": "code",
   "execution_count": 8,
   "metadata": {},
   "outputs": [
    {
     "data": {
      "text/plain": [
       "['Column: 1984 Olympic Arts Festival all but reinvented L.A. Why the 2028 Games could do the same',\n",
       " 'Column: 1984 Olympic Arts Festival all but reinvented L.A. Why the 2028 Games could do the same',\n",
       " datetime.datetime(2024, 7, 26, 8, 38, 39, 649385),\n",
       " 7,\n",
       " 0,\n",
       " False,\n",
       " 'Japanese dancers in traditional costumes perform July 20, 1984, as part of the Olympic Arts Festival in Los Angeles.']"
      ]
     },
     "execution_count": 8,
     "metadata": {},
     "output_type": "execute_result"
    }
   ],
   "source": [
    "list(news.ALL_DATA[1].values())"
   ]
  },
  {
   "cell_type": "code",
   "execution_count": null,
   "metadata": {},
   "outputs": [],
   "source": [
    "import datetime\n",
    "infos = {'topic': 'WORLD & NATION',\n",
    "  'title': 'Brazil’s Bolsonaro formally accused of money laundering for diamonds from Saudi Arabia',\n",
    "  'description': 'Former Brazilian far-right President Jair Bolsonaro is indicted by police on money laundering in connection with undeclared diamonds from Saudi Arabia.',\n",
    "  'date': datetime.datetime(2024, 7, 5, 0, 0),\n",
    "  'month': 7}"
   ]
  },
  {
   "cell_type": "code",
   "execution_count": null,
   "metadata": {},
   "outputs": [],
   "source": [
    "text = infos['title'] + infos['description']"
   ]
  },
  {
   "cell_type": "code",
   "execution_count": null,
   "metadata": {},
   "outputs": [
    {
     "data": {
      "text/plain": [
       "'Brazil’s Bolsonaro formally accused of money laundering for diamonds from Saudi ArabiaFormer Brazilian far-right President Jair Bolsonaro is indicted by police on money laundering in connection with undeclared diamonds from Saudi Arabia.'"
      ]
     },
     "execution_count": 11,
     "metadata": {},
     "output_type": "execute_result"
    }
   ],
   "source": [
    "text"
   ]
  },
  {
   "cell_type": "code",
   "execution_count": null,
   "metadata": {},
   "outputs": [
    {
     "data": {
      "text/plain": [
       "1"
      ]
     },
     "execution_count": 12,
     "metadata": {},
     "output_type": "execute_result"
    }
   ],
   "source": [
    "text.lower().count('jair')"
   ]
  },
  {
   "cell_type": "code",
   "execution_count": null,
   "metadata": {},
   "outputs": [],
   "source": [
    "news._next_page()"
   ]
  },
  {
   "cell_type": "code",
   "execution_count": null,
   "metadata": {},
   "outputs": [],
   "source": [
    "date_raw = 'Feb. 21, 2024'.replace('.','').replace(',','')"
   ]
  },
  {
   "cell_type": "code",
   "execution_count": null,
   "metadata": {},
   "outputs": [],
   "source": [
    "from datetime import datetime"
   ]
  },
  {
   "cell_type": "code",
   "execution_count": null,
   "metadata": {},
   "outputs": [
    {
     "ename": "ValueError",
     "evalue": "time data 'Feb. 21, 2024' does not match format '%b %d, %Y'",
     "output_type": "error",
     "traceback": [
      "\u001b[0;31m---------------------------------------------------------------------------\u001b[0m",
      "\u001b[0;31mValueError\u001b[0m                                Traceback (most recent call last)",
      "Cell \u001b[0;32mIn[26], line 1\u001b[0m\n\u001b[0;32m----> 1\u001b[0m \u001b[43mdatetime\u001b[49m\u001b[38;5;241;43m.\u001b[39;49m\u001b[43mstrptime\u001b[49m\u001b[43m(\u001b[49m\u001b[43mdate_raw\u001b[49m\u001b[43m,\u001b[49m\u001b[43m \u001b[49m\u001b[38;5;124;43m'\u001b[39;49m\u001b[38;5;124;43m%\u001b[39;49m\u001b[38;5;124;43mb \u001b[39;49m\u001b[38;5;132;43;01m%d\u001b[39;49;00m\u001b[38;5;124;43m, \u001b[39;49m\u001b[38;5;124;43m%\u001b[39;49m\u001b[38;5;124;43mY\u001b[39;49m\u001b[38;5;124;43m'\u001b[39;49m\u001b[43m)\u001b[49m\n",
      "File \u001b[0;32m/usr/lib/python3.8/_strptime.py:568\u001b[0m, in \u001b[0;36m_strptime_datetime\u001b[0;34m(cls, data_string, format)\u001b[0m\n\u001b[1;32m    565\u001b[0m \u001b[38;5;28;01mdef\u001b[39;00m \u001b[38;5;21m_strptime_datetime\u001b[39m(\u001b[38;5;28mcls\u001b[39m, data_string, \u001b[38;5;28mformat\u001b[39m\u001b[38;5;241m=\u001b[39m\u001b[38;5;124m\"\u001b[39m\u001b[38;5;132;01m%a\u001b[39;00m\u001b[38;5;124m \u001b[39m\u001b[38;5;124m%\u001b[39m\u001b[38;5;124mb \u001b[39m\u001b[38;5;132;01m%d\u001b[39;00m\u001b[38;5;124m \u001b[39m\u001b[38;5;124m%\u001b[39m\u001b[38;5;124mH:\u001b[39m\u001b[38;5;124m%\u001b[39m\u001b[38;5;124mM:\u001b[39m\u001b[38;5;124m%\u001b[39m\u001b[38;5;124mS \u001b[39m\u001b[38;5;124m%\u001b[39m\u001b[38;5;124mY\u001b[39m\u001b[38;5;124m\"\u001b[39m):\n\u001b[1;32m    566\u001b[0m \u001b[38;5;250m    \u001b[39m\u001b[38;5;124;03m\"\"\"Return a class cls instance based on the input string and the\u001b[39;00m\n\u001b[1;32m    567\u001b[0m \u001b[38;5;124;03m    format string.\"\"\"\u001b[39;00m\n\u001b[0;32m--> 568\u001b[0m     tt, fraction, gmtoff_fraction \u001b[38;5;241m=\u001b[39m \u001b[43m_strptime\u001b[49m\u001b[43m(\u001b[49m\u001b[43mdata_string\u001b[49m\u001b[43m,\u001b[49m\u001b[43m \u001b[49m\u001b[38;5;28;43mformat\u001b[39;49m\u001b[43m)\u001b[49m\n\u001b[1;32m    569\u001b[0m     tzname, gmtoff \u001b[38;5;241m=\u001b[39m tt[\u001b[38;5;241m-\u001b[39m\u001b[38;5;241m2\u001b[39m:]\n\u001b[1;32m    570\u001b[0m     args \u001b[38;5;241m=\u001b[39m tt[:\u001b[38;5;241m6\u001b[39m] \u001b[38;5;241m+\u001b[39m (fraction,)\n",
      "File \u001b[0;32m/usr/lib/python3.8/_strptime.py:349\u001b[0m, in \u001b[0;36m_strptime\u001b[0;34m(data_string, format)\u001b[0m\n\u001b[1;32m    347\u001b[0m found \u001b[38;5;241m=\u001b[39m format_regex\u001b[38;5;241m.\u001b[39mmatch(data_string)\n\u001b[1;32m    348\u001b[0m \u001b[38;5;28;01mif\u001b[39;00m \u001b[38;5;129;01mnot\u001b[39;00m found:\n\u001b[0;32m--> 349\u001b[0m     \u001b[38;5;28;01mraise\u001b[39;00m \u001b[38;5;167;01mValueError\u001b[39;00m(\u001b[38;5;124m\"\u001b[39m\u001b[38;5;124mtime data \u001b[39m\u001b[38;5;132;01m%r\u001b[39;00m\u001b[38;5;124m does not match format \u001b[39m\u001b[38;5;132;01m%r\u001b[39;00m\u001b[38;5;124m\"\u001b[39m \u001b[38;5;241m%\u001b[39m\n\u001b[1;32m    350\u001b[0m                      (data_string, \u001b[38;5;28mformat\u001b[39m))\n\u001b[1;32m    351\u001b[0m \u001b[38;5;28;01mif\u001b[39;00m \u001b[38;5;28mlen\u001b[39m(data_string) \u001b[38;5;241m!=\u001b[39m found\u001b[38;5;241m.\u001b[39mend():\n\u001b[1;32m    352\u001b[0m     \u001b[38;5;28;01mraise\u001b[39;00m \u001b[38;5;167;01mValueError\u001b[39;00m(\u001b[38;5;124m\"\u001b[39m\u001b[38;5;124munconverted data remains: \u001b[39m\u001b[38;5;132;01m%s\u001b[39;00m\u001b[38;5;124m\"\u001b[39m \u001b[38;5;241m%\u001b[39m\n\u001b[1;32m    353\u001b[0m                       data_string[found\u001b[38;5;241m.\u001b[39mend():])\n",
      "\u001b[0;31mValueError\u001b[0m: time data 'Feb. 21, 2024' does not match format '%b %d, %Y'"
     ]
    }
   ],
   "source": [
    "datetime.strptime(date_raw.replace('.',''), '%b %d, %Y')"
   ]
  },
  {
   "cell_type": "code",
   "execution_count": null,
   "metadata": {},
   "outputs": [],
   "source": [
    "now = datetime.now()"
   ]
  },
  {
   "cell_type": "code",
   "execution_count": null,
   "metadata": {},
   "outputs": [
    {
     "data": {
      "text/plain": [
       "'Jul'"
      ]
     },
     "execution_count": 23,
     "metadata": {},
     "output_type": "execute_result"
    }
   ],
   "source": [
    "now.strftime(\"%b\")"
   ]
  },
  {
   "cell_type": "code",
   "execution_count": null,
   "metadata": {},
   "outputs": [],
   "source": [
    "month,day, year = date_raw.split(' ')"
   ]
  },
  {
   "cell_type": "code",
   "execution_count": null,
   "metadata": {},
   "outputs": [],
   "source": [
    "    months = {'Jan': '1',\n",
    "              'Feb': '2',\n",
    "              'Mar': '3',\n",
    "              'Apr': '4',\n",
    "              'May': '5',\n",
    "              'Jun': '6',\n",
    "              'June': '6',\n",
    "              'Jul': '7',\n",
    "              'July': '7',\n",
    "              'Aug': '8',\n",
    "              'Sep': '9',\n",
    "              'Sept': '9',\n",
    "              'Oct': '10',\n",
    "              'Nov': '11',\n",
    "              'Dec': '12',\n",
    "              }\n",
    "    month,day, year = date_raw.split(' ')\n",
    "    adjusted_month = months.get(month)"
   ]
  },
  {
   "cell_type": "code",
   "execution_count": null,
   "metadata": {},
   "outputs": [
    {
     "data": {
      "text/plain": [
       "'2'"
      ]
     },
     "execution_count": 15,
     "metadata": {},
     "output_type": "execute_result"
    }
   ],
   "source": [
    "adjusted_month"
   ]
  },
  {
   "cell_type": "code",
   "execution_count": null,
   "metadata": {},
   "outputs": [],
   "source": [
    "teste = ' '.join([adjusted_month,day, year])"
   ]
  },
  {
   "cell_type": "code",
   "execution_count": null,
   "metadata": {},
   "outputs": [
    {
     "data": {
      "text/plain": [
       "datetime.datetime(2024, 2, 21, 0, 0)"
      ]
     },
     "execution_count": 20,
     "metadata": {},
     "output_type": "execute_result"
    }
   ],
   "source": [
    "datetime.strptime(teste, '%m %d %Y')"
   ]
  },
  {
   "cell_type": "code",
   "execution_count": null,
   "metadata": {},
   "outputs": [],
   "source": []
  }
 ],
 "metadata": {
  "kernelspec": {
   "display_name": "venv",
   "language": "python",
   "name": "python3"
  },
  "language_info": {
   "codemirror_mode": {
    "name": "ipython",
    "version": 3
   },
   "file_extension": ".py",
   "mimetype": "text/x-python",
   "name": "python",
   "nbconvert_exporter": "python",
   "pygments_lexer": "ipython3",
   "version": "3.8.10"
  }
 },
 "nbformat": 4,
 "nbformat_minor": 2
}
