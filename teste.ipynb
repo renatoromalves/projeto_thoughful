{
 "cells": [
  {
   "cell_type": "code",
   "execution_count": 2,
   "metadata": {},
   "outputs": [],
   "source": [
    "from RPA.Browser.Selenium import Selenium\n",
    "from selenium.common.exceptions import TimeoutException as TimeExpt"
   ]
  },
  {
   "cell_type": "code",
   "execution_count": 3,
   "metadata": {},
   "outputs": [
    {
     "data": {
      "text/plain": [
       "'5 minutes'"
      ]
     },
     "execution_count": 3,
     "metadata": {},
     "output_type": "execute_result"
    }
   ],
   "source": [
    "from datetime import timedelta\n",
    "browser = Selenium()\n",
    "timeout = timedelta(seconds=5)\n",
    "browser.set_selenium_page_load_timeout(timeout)"
   ]
  },
  {
   "cell_type": "code",
   "execution_count": 4,
   "metadata": {},
   "outputs": [
    {
     "name": "stderr",
     "output_type": "stream",
     "text": [
      "2024-07-26 01:36:17,465 - RPA.Browser.Selenium - INFO - Webdriver version taken into use: ChromeDriver 125.0.6422.76 (67dcf7562b8fb4ab0819135589e37a97bcc8942c-refs/branch-heads/6422@{#1086})\n",
      "\n",
      "2024-07-26 01:36:17,468 - RobotFramework - INFO - Creating an instance of the Chrome WebDriver.\n",
      "2024-07-26 01:36:18,835 - RPA.Browser.Selenium - INFO - Created Chrome browser (version 125.0.6422) with arguments: --disable-dev-shm-usage --disable-web-security --allow-running-insecure-content --no-sandbox\n",
      "2024-07-26 01:36:18,839 - RobotFramework - INFO - <p>Attempted combinations:</p><div class=\"doc\"><table><tr><th>Browser</th><th>Download</th><th>Error</th></tr><tr><td>Chrome</td><td>False</td><td></td></tr></table></div>\n",
      "2024-07-26 01:36:18,841 - RobotFramework - INFO - Opening url 'https://www.latimes.com/'\n"
     ]
    }
   ],
   "source": [
    "browser.open_available_browser('https://www.latimes.com/')\n"
   ]
  },
  {
   "cell_type": "code",
   "execution_count": null,
   "metadata": {},
   "outputs": [
    {
     "name": "stderr",
     "output_type": "stream",
     "text": [
      "2024-07-26 01:29:21,963 - RobotFramework - INFO - Clicking button 'css:[data-element='search-form-input']'.\n"
     ]
    }
   ],
   "source": [
    "browser.wait"
   ]
  },
  {
   "cell_type": "code",
   "execution_count": 1,
   "metadata": {},
   "outputs": [
    {
     "name": "stderr",
     "output_type": "stream",
     "text": [
      "2024-07-26 01:48:16,181 - RPA.core.certificates - INFO - Truststore not in use, HTTPS traffic validated against `certifi` package. (requires Python 3.10.12 and 'pip' 23.2.1 at minimum)\n",
      "2024-07-26 01:48:16,402 - app.scraper - INFO - Configuring browser\n",
      "2024-07-26 01:48:16,546 - RPA.Browser.Selenium - INFO - Webdriver version taken into use: ChromeDriver 125.0.6422.76 (67dcf7562b8fb4ab0819135589e37a97bcc8942c-refs/branch-heads/6422@{#1086})\n",
      "\n",
      "2024-07-26 01:48:16,550 - RobotFramework - INFO - Creating an instance of the Chrome WebDriver.\n",
      "2024-07-26 01:48:19,312 - RPA.Browser.Selenium - INFO - Created Chrome browser (version 125.0.6422) with arguments: --disable-dev-shm-usage --disable-web-security --allow-running-insecure-content --no-sandbox\n",
      "2024-07-26 01:48:19,314 - RobotFramework - INFO - <p>Attempted combinations:</p><div class=\"doc\"><table><tr><th>Browser</th><th>Download</th><th>Error</th></tr><tr><td>Chrome</td><td>False</td><td></td></tr></table></div>\n",
      "2024-07-26 01:48:19,318 - app.scraper - INFO - Configuring months\n",
      "2024-07-26 01:48:19,319 - app.scraper - INFO - Selected months [7, 6]\n",
      "2024-07-26 01:48:19,321 - app.scraper - INFO - Opening website\n",
      "2024-07-26 01:48:19,323 - RobotFramework - INFO - Opening url 'https://www.latimes.com/'\n",
      "2024-07-26 01:48:24,462 - app.scraper - INFO - Performing search\n",
      "2024-07-26 01:48:25,152 - app.scraper - INFO - Submiting search\n",
      "2024-07-26 01:48:32,516 - app.scraper - INFO - Ordering search\n",
      "2024-07-26 01:48:36,922 - app.scraper - INFO - Extracting information from page\n",
      "2024-07-26 01:48:36,944 - app.scraper - INFO - Extracting information\n",
      "2024-07-26 01:48:37,158 - app.scraper - INFO - Downloading image\n",
      "2024-07-26 01:48:37,349 - app.scraper - INFO - Image Downloaded\n",
      "2024-07-26 01:48:37,351 - app.scraper - INFO - Filtering news\n",
      "2024-07-26 01:48:37,353 - app.scraper - INFO - News inside target dates\n",
      "2024-07-26 01:48:37,355 - app.scraper - INFO - Appending data to ALL_DATA\n",
      "2024-07-26 01:48:37,356 - app.scraper - INFO - Extracting information\n",
      "2024-07-26 01:48:37,559 - app.scraper - INFO - Downloading image\n",
      "2024-07-26 01:48:37,719 - app.scraper - INFO - Image Downloaded\n",
      "2024-07-26 01:48:37,721 - app.scraper - INFO - Filtering news\n",
      "2024-07-26 01:48:37,723 - app.scraper - INFO - News inside target dates\n",
      "2024-07-26 01:48:37,724 - app.scraper - INFO - Appending data to ALL_DATA\n",
      "2024-07-26 01:48:37,725 - app.scraper - INFO - Extracting information\n",
      "2024-07-26 01:48:38,024 - app.scraper - INFO - Downloading image\n",
      "2024-07-26 01:48:38,196 - app.scraper - INFO - Image Downloaded\n",
      "2024-07-26 01:48:38,198 - app.scraper - INFO - Filtering news\n",
      "2024-07-26 01:48:38,199 - app.scraper - INFO - News inside target dates\n",
      "2024-07-26 01:48:38,200 - app.scraper - INFO - Appending data to ALL_DATA\n",
      "2024-07-26 01:48:38,201 - app.scraper - INFO - Extracting information\n",
      "2024-07-26 01:48:38,552 - app.scraper - INFO - Downloading image\n",
      "2024-07-26 01:48:38,739 - app.scraper - INFO - Image Downloaded\n",
      "2024-07-26 01:48:38,742 - app.scraper - INFO - Filtering news\n",
      "2024-07-26 01:48:38,743 - app.scraper - INFO - News inside target dates\n",
      "2024-07-26 01:48:38,744 - app.scraper - INFO - Appending data to ALL_DATA\n",
      "2024-07-26 01:48:38,746 - app.scraper - INFO - Extracting information\n",
      "2024-07-26 01:48:38,992 - app.scraper - INFO - Downloading image\n",
      "2024-07-26 01:48:39,236 - app.scraper - INFO - Image Downloaded\n",
      "2024-07-26 01:48:39,238 - app.scraper - INFO - Filtering news\n",
      "2024-07-26 01:48:39,240 - app.scraper - INFO - News inside target dates\n",
      "2024-07-26 01:48:39,242 - app.scraper - INFO - Appending data to ALL_DATA\n",
      "2024-07-26 01:48:39,243 - app.scraper - INFO - Extracting information\n",
      "2024-07-26 01:48:39,475 - app.scraper - INFO - Downloading image\n",
      "2024-07-26 01:48:39,694 - app.scraper - INFO - Image Downloaded\n",
      "2024-07-26 01:48:39,697 - app.scraper - INFO - Filtering news\n",
      "2024-07-26 01:48:39,698 - app.scraper - INFO - News inside target dates\n",
      "2024-07-26 01:48:39,699 - app.scraper - INFO - Appending data to ALL_DATA\n",
      "2024-07-26 01:48:39,700 - app.scraper - INFO - Extracting information\n",
      "2024-07-26 01:48:39,950 - app.scraper - INFO - Downloading image\n",
      "2024-07-26 01:48:40,091 - app.scraper - INFO - Image Downloaded\n",
      "2024-07-26 01:48:40,093 - app.scraper - INFO - Filtering news\n",
      "2024-07-26 01:48:40,095 - app.scraper - INFO - News inside target dates\n",
      "2024-07-26 01:48:40,097 - app.scraper - INFO - Appending data to ALL_DATA\n",
      "2024-07-26 01:48:40,098 - app.scraper - INFO - Extracting information\n",
      "2024-07-26 01:48:40,300 - app.scraper - INFO - Downloading image\n",
      "2024-07-26 01:48:40,494 - app.scraper - INFO - Image Downloaded\n",
      "2024-07-26 01:48:40,496 - app.scraper - INFO - Filtering news\n",
      "2024-07-26 01:48:40,497 - app.scraper - INFO - News inside target dates\n",
      "2024-07-26 01:48:40,498 - app.scraper - INFO - Appending data to ALL_DATA\n",
      "2024-07-26 01:48:40,499 - app.scraper - INFO - Extracting information\n",
      "2024-07-26 01:48:40,769 - app.scraper - INFO - Downloading image\n",
      "2024-07-26 01:48:41,065 - app.scraper - INFO - Image Downloaded\n",
      "2024-07-26 01:48:41,067 - app.scraper - INFO - Filtering news\n",
      "2024-07-26 01:48:41,068 - app.scraper - INFO - News inside target dates\n",
      "2024-07-26 01:48:41,070 - app.scraper - INFO - Appending data to ALL_DATA\n",
      "2024-07-26 01:48:41,072 - app.scraper - INFO - Extracting information\n",
      "2024-07-26 01:48:41,355 - app.scraper - INFO - Downloading image\n",
      "2024-07-26 01:48:41,550 - app.scraper - INFO - Image Downloaded\n",
      "2024-07-26 01:48:41,552 - app.scraper - INFO - Filtering news\n",
      "2024-07-26 01:48:41,553 - app.scraper - INFO - News inside target dates\n",
      "2024-07-26 01:48:41,555 - app.scraper - INFO - Appending data to ALL_DATA\n",
      "2024-07-26 01:48:41,557 - app.scraper - INFO - Has next page: True\n",
      "2024-07-26 01:48:41,581 - app.scraper - INFO - Next page\n",
      "2024-07-26 01:48:43,487 - app.scraper - INFO - Extracting information from page\n",
      "2024-07-26 01:48:43,503 - app.scraper - INFO - Extracting information\n",
      "2024-07-26 01:48:43,941 - app.scraper - INFO - Downloading image\n",
      "2024-07-26 01:48:45,084 - app.scraper - INFO - Image Downloaded\n",
      "2024-07-26 01:48:45,085 - app.scraper - INFO - Filtering news\n",
      "2024-07-26 01:48:45,087 - app.scraper - INFO - News inside target dates\n",
      "2024-07-26 01:48:45,088 - app.scraper - INFO - Appending data to ALL_DATA\n",
      "2024-07-26 01:48:45,089 - app.scraper - INFO - Extracting information\n",
      "2024-07-26 01:48:45,258 - app.scraper - INFO - Downloading image\n",
      "2024-07-26 01:48:45,433 - app.scraper - INFO - Image Downloaded\n",
      "2024-07-26 01:48:45,435 - app.scraper - INFO - Filtering news\n",
      "2024-07-26 01:48:45,436 - app.scraper - INFO - News inside target dates\n",
      "2024-07-26 01:48:45,437 - app.scraper - INFO - Appending data to ALL_DATA\n",
      "2024-07-26 01:48:45,438 - app.scraper - INFO - Extracting information\n",
      "2024-07-26 01:48:45,618 - app.scraper - INFO - Downloading image\n",
      "2024-07-26 01:48:47,914 - app.scraper - INFO - Image Downloaded\n",
      "2024-07-26 01:48:47,916 - app.scraper - INFO - Filtering news\n",
      "2024-07-26 01:48:47,918 - app.scraper - INFO - News inside target dates\n",
      "2024-07-26 01:48:47,920 - app.scraper - INFO - Appending data to ALL_DATA\n",
      "2024-07-26 01:48:47,921 - app.scraper - INFO - Extracting information\n",
      "2024-07-26 01:48:48,086 - app.scraper - INFO - Downloading image\n",
      "2024-07-26 01:48:49,647 - app.scraper - INFO - Image Downloaded\n",
      "2024-07-26 01:48:49,649 - app.scraper - INFO - Filtering news\n",
      "2024-07-26 01:48:49,651 - app.scraper - INFO - News inside target dates\n",
      "2024-07-26 01:48:49,652 - app.scraper - INFO - Appending data to ALL_DATA\n",
      "2024-07-26 01:48:49,654 - app.scraper - INFO - Extracting information\n",
      "2024-07-26 01:48:49,886 - app.scraper - INFO - Downloading image\n",
      "2024-07-26 01:48:50,960 - app.scraper - INFO - Image Downloaded\n",
      "2024-07-26 01:48:50,962 - app.scraper - INFO - Filtering news\n",
      "2024-07-26 01:48:50,963 - app.scraper - INFO - News inside target dates\n",
      "2024-07-26 01:48:50,964 - app.scraper - INFO - Appending data to ALL_DATA\n",
      "2024-07-26 01:48:50,965 - app.scraper - INFO - Extracting information\n",
      "2024-07-26 01:48:51,132 - app.scraper - INFO - Downloading image\n",
      "2024-07-26 01:48:53,163 - app.scraper - INFO - Image Downloaded\n",
      "2024-07-26 01:48:53,165 - app.scraper - INFO - Filtering news\n",
      "2024-07-26 01:48:53,167 - app.scraper - INFO - News inside target dates\n",
      "2024-07-26 01:48:53,169 - app.scraper - INFO - Appending data to ALL_DATA\n",
      "2024-07-26 01:48:53,170 - app.scraper - INFO - Extracting information\n",
      "2024-07-26 01:48:53,372 - app.scraper - INFO - Downloading image\n",
      "2024-07-26 01:48:56,893 - app.scraper - INFO - Image Downloaded\n",
      "2024-07-26 01:48:56,895 - app.scraper - INFO - Filtering news\n",
      "2024-07-26 01:48:56,897 - app.scraper - INFO - News inside target dates\n",
      "2024-07-26 01:48:56,900 - app.scraper - INFO - Appending data to ALL_DATA\n",
      "2024-07-26 01:48:56,902 - app.scraper - INFO - Extracting information\n",
      "2024-07-26 01:48:57,070 - app.scraper - INFO - Downloading image\n",
      "2024-07-26 01:48:57,281 - app.scraper - INFO - Image Downloaded\n",
      "2024-07-26 01:48:57,284 - app.scraper - INFO - Filtering news\n",
      "2024-07-26 01:48:57,285 - app.scraper - INFO - News inside target dates\n",
      "2024-07-26 01:48:57,287 - app.scraper - INFO - Appending data to ALL_DATA\n",
      "2024-07-26 01:48:57,288 - app.scraper - INFO - Extracting information\n",
      "2024-07-26 01:48:57,450 - app.scraper - INFO - Downloading image\n",
      "2024-07-26 01:48:59,996 - app.scraper - INFO - Image Downloaded\n",
      "2024-07-26 01:48:59,998 - app.scraper - INFO - Filtering news\n",
      "2024-07-26 01:48:59,999 - app.scraper - INFO - News inside target dates\n",
      "2024-07-26 01:49:00,000 - app.scraper - INFO - Appending data to ALL_DATA\n",
      "2024-07-26 01:49:00,001 - app.scraper - INFO - Extracting information\n",
      "2024-07-26 01:49:00,147 - app.scraper - INFO - Downloading image\n",
      "2024-07-26 01:49:01,544 - app.scraper - INFO - Image Downloaded\n",
      "2024-07-26 01:49:01,545 - app.scraper - INFO - Filtering news\n",
      "2024-07-26 01:49:01,546 - app.scraper - INFO - News inside target dates\n",
      "2024-07-26 01:49:01,547 - app.scraper - INFO - Appending data to ALL_DATA\n",
      "2024-07-26 01:49:01,548 - app.scraper - INFO - Has next page: True\n",
      "2024-07-26 01:49:01,565 - app.scraper - INFO - Next page\n",
      "2024-07-26 01:49:06,145 - app.scraper - INFO - Extracting information from page\n",
      "2024-07-26 01:49:06,197 - app.scraper - INFO - Extracting information\n",
      "2024-07-26 01:49:06,426 - app.scraper - INFO - Downloading image\n",
      "2024-07-26 01:49:07,605 - app.scraper - INFO - Image Downloaded\n",
      "2024-07-26 01:49:07,608 - app.scraper - INFO - Filtering news\n",
      "2024-07-26 01:49:07,609 - app.scraper - INFO - News inside target dates\n",
      "2024-07-26 01:49:07,611 - app.scraper - INFO - Appending data to ALL_DATA\n",
      "2024-07-26 01:49:07,614 - app.scraper - INFO - Extracting information\n",
      "2024-07-26 01:49:07,820 - app.scraper - INFO - Downloading image\n",
      "2024-07-26 01:49:09,135 - app.scraper - INFO - Image Downloaded\n",
      "2024-07-26 01:49:09,137 - app.scraper - INFO - Filtering news\n",
      "2024-07-26 01:49:09,139 - app.scraper - INFO - News inside target dates\n",
      "2024-07-26 01:49:09,140 - app.scraper - INFO - Appending data to ALL_DATA\n",
      "2024-07-26 01:49:09,142 - app.scraper - INFO - Extracting information\n",
      "2024-07-26 01:49:09,303 - app.scraper - INFO - Downloading image\n",
      "2024-07-26 01:49:09,930 - app.scraper - INFO - Image Downloaded\n",
      "2024-07-26 01:49:09,932 - app.scraper - INFO - Filtering news\n",
      "2024-07-26 01:49:09,933 - app.scraper - INFO - News inside target dates\n",
      "2024-07-26 01:49:09,934 - app.scraper - INFO - Appending data to ALL_DATA\n",
      "2024-07-26 01:49:09,935 - app.scraper - INFO - Extracting information\n",
      "2024-07-26 01:49:10,100 - app.scraper - INFO - Downloading image\n",
      "2024-07-26 01:49:11,474 - app.scraper - INFO - Image Downloaded\n",
      "2024-07-26 01:49:11,476 - app.scraper - INFO - Filtering news\n",
      "2024-07-26 01:49:11,478 - app.scraper - INFO - News inside target dates\n",
      "2024-07-26 01:49:11,479 - app.scraper - INFO - Appending data to ALL_DATA\n",
      "2024-07-26 01:49:11,480 - app.scraper - INFO - Extracting information\n",
      "2024-07-26 01:49:11,654 - app.scraper - INFO - Downloading image\n",
      "2024-07-26 01:49:13,297 - app.scraper - INFO - Image Downloaded\n",
      "2024-07-26 01:49:13,298 - app.scraper - INFO - Filtering news\n",
      "2024-07-26 01:49:13,300 - app.scraper - INFO - News inside target dates\n",
      "2024-07-26 01:49:13,302 - app.scraper - INFO - Appending data to ALL_DATA\n",
      "2024-07-26 01:49:13,303 - app.scraper - INFO - Extracting information\n",
      "2024-07-26 01:49:13,474 - app.scraper - INFO - Downloading image\n",
      "2024-07-26 01:49:14,890 - app.scraper - INFO - Image Downloaded\n",
      "2024-07-26 01:49:14,891 - app.scraper - INFO - Filtering news\n",
      "2024-07-26 01:49:14,893 - app.scraper - INFO - News inside target dates\n",
      "2024-07-26 01:49:14,895 - app.scraper - INFO - Appending data to ALL_DATA\n",
      "2024-07-26 01:49:14,896 - app.scraper - INFO - Extracting information\n",
      "2024-07-26 01:49:15,093 - app.scraper - INFO - Downloading image\n",
      "2024-07-26 01:49:16,558 - app.scraper - INFO - Image Downloaded\n",
      "2024-07-26 01:49:16,561 - app.scraper - INFO - Filtering news\n",
      "2024-07-26 01:49:16,562 - app.scraper - INFO - News inside target dates\n",
      "2024-07-26 01:49:16,564 - app.scraper - INFO - Appending data to ALL_DATA\n",
      "2024-07-26 01:49:16,565 - app.scraper - INFO - Extracting information\n",
      "2024-07-26 01:49:16,731 - app.scraper - INFO - Downloading image\n",
      "2024-07-26 01:49:17,904 - app.scraper - INFO - Image Downloaded\n",
      "2024-07-26 01:49:17,906 - app.scraper - INFO - Filtering news\n",
      "2024-07-26 01:49:17,908 - app.scraper - INFO - News inside target dates\n",
      "2024-07-26 01:49:17,909 - app.scraper - INFO - Appending data to ALL_DATA\n",
      "2024-07-26 01:49:17,911 - app.scraper - INFO - Extracting information\n",
      "2024-07-26 01:49:18,085 - app.scraper - INFO - Downloading image\n",
      "2024-07-26 01:49:19,605 - app.scraper - INFO - Image Downloaded\n",
      "2024-07-26 01:49:19,609 - app.scraper - INFO - Filtering news\n",
      "2024-07-26 01:49:19,612 - app.scraper - INFO - News inside target dates\n",
      "2024-07-26 01:49:19,614 - app.scraper - INFO - Appending data to ALL_DATA\n",
      "2024-07-26 01:49:19,617 - app.scraper - INFO - Extracting information\n",
      "2024-07-26 01:49:19,798 - app.scraper - INFO - Downloading image\n",
      "2024-07-26 01:49:21,209 - app.scraper - INFO - Image Downloaded\n",
      "2024-07-26 01:49:21,211 - app.scraper - INFO - Filtering news\n",
      "2024-07-26 01:49:21,213 - app.scraper - INFO - News inside target dates\n",
      "2024-07-26 01:49:21,214 - app.scraper - INFO - Appending data to ALL_DATA\n",
      "2024-07-26 01:49:21,215 - app.scraper - INFO - Has next page: True\n",
      "2024-07-26 01:49:21,232 - app.scraper - INFO - Next page\n",
      "2024-07-26 01:49:23,920 - app.scraper - INFO - Extracting information from page\n",
      "2024-07-26 01:49:23,987 - app.scraper - INFO - Extracting information\n",
      "2024-07-26 01:49:24,220 - app.scraper - INFO - Downloading image\n",
      "2024-07-26 01:49:24,406 - app.scraper - INFO - Image Downloaded\n",
      "2024-07-26 01:49:24,408 - app.scraper - INFO - Filtering news\n",
      "2024-07-26 01:49:24,410 - app.scraper - INFO - News inside target dates\n",
      "2024-07-26 01:49:24,411 - app.scraper - INFO - Appending data to ALL_DATA\n",
      "2024-07-26 01:49:24,413 - app.scraper - INFO - Extracting information\n",
      "2024-07-26 01:49:24,700 - app.scraper - INFO - Downloading image\n",
      "2024-07-26 01:49:26,186 - app.scraper - INFO - Image Downloaded\n",
      "2024-07-26 01:49:26,187 - app.scraper - INFO - Filtering news\n",
      "2024-07-26 01:49:26,189 - app.scraper - INFO - News inside target dates\n",
      "2024-07-26 01:49:26,190 - app.scraper - INFO - Appending data to ALL_DATA\n",
      "2024-07-26 01:49:26,193 - app.scraper - INFO - Extracting information\n",
      "2024-07-26 01:49:26,403 - app.scraper - INFO - Downloading image\n",
      "2024-07-26 01:49:28,219 - app.scraper - INFO - Image Downloaded\n",
      "2024-07-26 01:49:28,221 - app.scraper - INFO - Filtering news\n",
      "2024-07-26 01:49:28,222 - app.scraper - INFO - News inside target dates\n",
      "2024-07-26 01:49:28,224 - app.scraper - INFO - Appending data to ALL_DATA\n",
      "2024-07-26 01:49:28,226 - app.scraper - INFO - Extracting information\n",
      "2024-07-26 01:49:28,377 - app.scraper - INFO - Downloading image\n",
      "2024-07-26 01:49:29,495 - app.scraper - INFO - Image Downloaded\n",
      "2024-07-26 01:49:29,496 - app.scraper - INFO - Filtering news\n",
      "2024-07-26 01:49:29,498 - app.scraper - INFO - News inside target dates\n",
      "2024-07-26 01:49:29,498 - app.scraper - INFO - Appending data to ALL_DATA\n",
      "2024-07-26 01:49:29,500 - app.scraper - INFO - Extracting information\n",
      "2024-07-26 01:49:29,648 - app.scraper - INFO - Downloading image\n",
      "2024-07-26 01:49:32,969 - app.scraper - INFO - Image Downloaded\n",
      "2024-07-26 01:49:32,970 - app.scraper - INFO - Filtering news\n",
      "2024-07-26 01:49:32,971 - app.scraper - INFO - News inside target dates\n",
      "2024-07-26 01:49:32,972 - app.scraper - INFO - Appending data to ALL_DATA\n",
      "2024-07-26 01:49:32,973 - app.scraper - INFO - Extracting information\n",
      "2024-07-26 01:49:33,116 - app.scraper - INFO - Downloading image\n",
      "2024-07-26 01:49:34,463 - app.scraper - INFO - Image Downloaded\n",
      "2024-07-26 01:49:34,465 - app.scraper - INFO - Filtering news\n",
      "2024-07-26 01:49:34,466 - app.scraper - INFO - News inside target dates\n",
      "2024-07-26 01:49:34,467 - app.scraper - INFO - Appending data to ALL_DATA\n",
      "2024-07-26 01:49:34,467 - app.scraper - INFO - Extracting information\n",
      "2024-07-26 01:49:34,615 - app.scraper - INFO - Downloading image\n",
      "2024-07-26 01:49:36,248 - app.scraper - INFO - Image Downloaded\n",
      "2024-07-26 01:49:36,250 - app.scraper - INFO - Filtering news\n",
      "2024-07-26 01:49:36,251 - app.scraper - INFO - News inside target dates\n",
      "2024-07-26 01:49:36,253 - app.scraper - INFO - Appending data to ALL_DATA\n",
      "2024-07-26 01:49:36,254 - app.scraper - INFO - Extracting information\n",
      "2024-07-26 01:49:36,395 - app.scraper - INFO - Downloading image\n",
      "2024-07-26 01:49:37,898 - app.scraper - INFO - Image Downloaded\n",
      "2024-07-26 01:49:37,899 - app.scraper - INFO - Filtering news\n",
      "2024-07-26 01:49:37,900 - app.scraper - INFO - News inside target dates\n",
      "2024-07-26 01:49:37,902 - app.scraper - INFO - Appending data to ALL_DATA\n",
      "2024-07-26 01:49:37,903 - app.scraper - INFO - Extracting information\n",
      "2024-07-26 01:49:38,044 - app.scraper - INFO - Downloading image\n",
      "2024-07-26 01:49:39,119 - app.scraper - INFO - Image Downloaded\n",
      "2024-07-26 01:49:39,121 - app.scraper - INFO - Filtering news\n",
      "2024-07-26 01:49:39,122 - app.scraper - INFO - News inside target dates\n",
      "2024-07-26 01:49:39,123 - app.scraper - INFO - Appending data to ALL_DATA\n",
      "2024-07-26 01:49:39,125 - app.scraper - INFO - Extracting information\n",
      "2024-07-26 01:49:39,271 - app.scraper - INFO - Downloading image\n",
      "2024-07-26 01:49:41,134 - app.scraper - INFO - Image Downloaded\n",
      "2024-07-26 01:49:41,136 - app.scraper - INFO - Filtering news\n",
      "2024-07-26 01:49:41,137 - app.scraper - INFO - News inside target dates\n",
      "2024-07-26 01:49:41,139 - app.scraper - INFO - Appending data to ALL_DATA\n",
      "2024-07-26 01:49:41,140 - app.scraper - INFO - Has next page: True\n",
      "2024-07-26 01:49:41,157 - app.scraper - INFO - Next page\n",
      "2024-07-26 01:49:50,853 - app.scraper - INFO - Extracting information from page\n",
      "2024-07-26 01:49:51,002 - app.scraper - INFO - Extracting information\n",
      "2024-07-26 01:49:51,185 - app.scraper - INFO - Downloading image\n",
      "2024-07-26 01:49:52,228 - app.scraper - INFO - Image Downloaded\n",
      "2024-07-26 01:49:52,231 - app.scraper - INFO - Filtering news\n",
      "2024-07-26 01:49:52,232 - app.scraper - INFO - News inside target dates\n",
      "2024-07-26 01:49:52,234 - app.scraper - INFO - Appending data to ALL_DATA\n",
      "2024-07-26 01:49:52,236 - app.scraper - INFO - Extracting information\n",
      "2024-07-26 01:49:52,393 - app.scraper - INFO - Downloading image\n",
      "2024-07-26 01:49:54,101 - app.scraper - INFO - Image Downloaded\n",
      "2024-07-26 01:49:54,103 - app.scraper - INFO - Filtering news\n",
      "2024-07-26 01:49:54,104 - app.scraper - INFO - News inside target dates\n",
      "2024-07-26 01:49:54,105 - app.scraper - INFO - Appending data to ALL_DATA\n",
      "2024-07-26 01:49:54,106 - app.scraper - INFO - Extracting information\n",
      "2024-07-26 01:49:54,280 - app.scraper - INFO - Downloading image\n",
      "2024-07-26 01:49:56,249 - app.scraper - INFO - Image Downloaded\n",
      "2024-07-26 01:49:56,251 - app.scraper - INFO - Filtering news\n",
      "2024-07-26 01:49:56,252 - app.scraper - INFO - News inside target dates\n",
      "2024-07-26 01:49:56,254 - app.scraper - INFO - Appending data to ALL_DATA\n",
      "2024-07-26 01:49:56,256 - app.scraper - INFO - Extracting information\n",
      "2024-07-26 01:49:56,413 - app.scraper - INFO - Downloading image\n",
      "2024-07-26 01:49:59,408 - app.scraper - INFO - Image Downloaded\n",
      "2024-07-26 01:49:59,410 - app.scraper - INFO - Filtering news\n",
      "2024-07-26 01:49:59,411 - app.scraper - INFO - News inside target dates\n",
      "2024-07-26 01:49:59,413 - app.scraper - INFO - Appending data to ALL_DATA\n",
      "2024-07-26 01:49:59,414 - app.scraper - INFO - Extracting information\n",
      "2024-07-26 01:49:59,586 - app.scraper - INFO - Downloading image\n",
      "2024-07-26 01:50:00,827 - app.scraper - INFO - Image Downloaded\n",
      "2024-07-26 01:50:00,830 - app.scraper - INFO - Filtering news\n",
      "2024-07-26 01:50:00,832 - app.scraper - INFO - News inside target dates\n",
      "2024-07-26 01:50:00,833 - app.scraper - INFO - Appending data to ALL_DATA\n",
      "2024-07-26 01:50:00,834 - app.scraper - INFO - Extracting information\n",
      "2024-07-26 01:50:01,002 - app.scraper - INFO - Downloading image\n",
      "2024-07-26 01:50:02,613 - app.scraper - INFO - Image Downloaded\n",
      "2024-07-26 01:50:02,615 - app.scraper - INFO - Filtering news\n",
      "2024-07-26 01:50:02,617 - app.scraper - INFO - News inside target dates\n",
      "2024-07-26 01:50:02,618 - app.scraper - INFO - Appending data to ALL_DATA\n",
      "2024-07-26 01:50:02,618 - app.scraper - INFO - Extracting information\n",
      "2024-07-26 01:50:02,800 - app.scraper - INFO - Downloading image\n",
      "2024-07-26 01:50:06,232 - app.scraper - INFO - Image Downloaded\n",
      "2024-07-26 01:50:06,235 - app.scraper - INFO - Filtering news\n",
      "2024-07-26 01:50:06,237 - app.scraper - INFO - News inside target dates\n",
      "2024-07-26 01:50:06,238 - app.scraper - INFO - Appending data to ALL_DATA\n",
      "2024-07-26 01:50:06,239 - app.scraper - INFO - Extracting information\n",
      "2024-07-26 01:50:06,403 - app.scraper - INFO - Downloading image\n",
      "2024-07-26 01:50:07,980 - app.scraper - INFO - Image Downloaded\n",
      "2024-07-26 01:50:07,983 - app.scraper - INFO - Filtering news\n",
      "2024-07-26 01:50:07,985 - app.scraper - INFO - News inside target dates\n",
      "2024-07-26 01:50:07,986 - app.scraper - INFO - Appending data to ALL_DATA\n",
      "2024-07-26 01:50:07,987 - app.scraper - INFO - Extracting information\n",
      "2024-07-26 01:50:08,195 - app.scraper - INFO - Downloading image\n",
      "2024-07-26 01:50:10,138 - app.scraper - INFO - Image Downloaded\n",
      "2024-07-26 01:50:10,139 - app.scraper - INFO - Filtering news\n",
      "2024-07-26 01:50:10,140 - app.scraper - INFO - News inside target dates\n",
      "2024-07-26 01:50:10,141 - app.scraper - INFO - Appending data to ALL_DATA\n",
      "2024-07-26 01:50:10,142 - app.scraper - INFO - Extracting information\n",
      "2024-07-26 01:50:10,315 - app.scraper - INFO - Downloading image\n",
      "2024-07-26 01:50:11,833 - app.scraper - INFO - Image Downloaded\n",
      "2024-07-26 01:50:11,836 - app.scraper - INFO - Filtering news\n",
      "2024-07-26 01:50:11,837 - app.scraper - INFO - News inside target dates\n",
      "2024-07-26 01:50:11,840 - app.scraper - INFO - Appending data to ALL_DATA\n",
      "2024-07-26 01:50:11,841 - app.scraper - INFO - Has next page: True\n",
      "2024-07-26 01:50:11,859 - app.scraper - INFO - Next page\n",
      "2024-07-26 01:50:16,362 - app.scraper - INFO - Extracting information from page\n",
      "2024-07-26 01:50:16,417 - app.scraper - INFO - Extracting information\n",
      "2024-07-26 01:50:16,698 - app.scraper - INFO - Downloading image\n",
      "2024-07-26 01:50:19,514 - app.scraper - INFO - Image Downloaded\n",
      "2024-07-26 01:50:19,516 - app.scraper - INFO - Filtering news\n",
      "2024-07-26 01:50:19,518 - app.scraper - INFO - News inside target dates\n",
      "2024-07-26 01:50:19,519 - app.scraper - INFO - Appending data to ALL_DATA\n",
      "2024-07-26 01:50:19,521 - app.scraper - INFO - Extracting information\n",
      "2024-07-26 01:50:19,813 - app.scraper - INFO - Downloading image\n",
      "2024-07-26 01:50:20,834 - app.scraper - INFO - Image Downloaded\n",
      "2024-07-26 01:50:20,835 - app.scraper - INFO - Filtering news\n",
      "2024-07-26 01:50:20,837 - app.scraper - INFO - News inside target dates\n",
      "2024-07-26 01:50:20,839 - app.scraper - INFO - Appending data to ALL_DATA\n",
      "2024-07-26 01:50:20,841 - app.scraper - INFO - Extracting information\n",
      "2024-07-26 01:50:21,079 - app.scraper - INFO - Downloading image\n",
      "2024-07-26 01:50:23,623 - app.scraper - INFO - Image Downloaded\n",
      "2024-07-26 01:50:23,625 - app.scraper - INFO - Filtering news\n",
      "2024-07-26 01:50:23,628 - app.scraper - INFO - News inside target dates\n",
      "2024-07-26 01:50:23,630 - app.scraper - INFO - Appending data to ALL_DATA\n",
      "2024-07-26 01:50:23,632 - app.scraper - INFO - Extracting information\n",
      "2024-07-26 01:50:23,828 - app.scraper - INFO - Downloading image\n",
      "2024-07-26 01:50:24,800 - app.scraper - INFO - Image Downloaded\n",
      "2024-07-26 01:50:24,803 - app.scraper - INFO - Filtering news\n",
      "2024-07-26 01:50:24,805 - app.scraper - INFO - News outside target dates\n",
      "2024-07-26 01:50:24,806 - app.scraper - INFO - Extraction finished\n"
     ]
    }
   ],
   "source": [
    "from app import FreshNews\n",
    "news = FreshNews(search_phrase=\"Brazil\",target_months=2)\n",
    "# news._config_browser()\n",
    "# news._search_info()\n",
    "news._full_routine()"
   ]
  },
  {
   "cell_type": "code",
   "execution_count": null,
   "metadata": {},
   "outputs": [],
   "source": [
    "elems = news.BROWSER.find_elements('class:search-results-module-results-menu > li')"
   ]
  },
  {
   "cell_type": "code",
   "execution_count": null,
   "metadata": {},
   "outputs": [],
   "source": [
    "elem = elems[0]"
   ]
  },
  {
   "cell_type": "code",
   "execution_count": null,
   "metadata": {},
   "outputs": [],
   "source": [
    "image = elem.find_element(\"css selector\", \"img\")"
   ]
  },
  {
   "cell_type": "code",
   "execution_count": null,
   "metadata": {},
   "outputs": [
    {
     "data": {
      "text/plain": [
       "True"
      ]
     },
     "execution_count": 12,
     "metadata": {},
     "output_type": "execute_result"
    }
   ],
   "source": [
    "image.screenshot('teste.png')"
   ]
  },
  {
   "cell_type": "code",
   "execution_count": null,
   "metadata": {},
   "outputs": [
    {
     "data": {
      "text/plain": [
       "'/home/renato/projeto_thoughtful'"
      ]
     },
     "execution_count": 1,
     "metadata": {},
     "output_type": "execute_result"
    }
   ],
   "source": [
    "import os\n",
    "os.path.abspath(\".\")"
   ]
  },
  {
   "cell_type": "code",
   "execution_count": 2,
   "metadata": {},
   "outputs": [
    {
     "data": {
      "text/plain": [
       "[{'title': 'The Sports Report: Jim Harbaugh’s wild and wacky first day of camp',\n",
       "  'description': 'The Sports Report: Jim Harbaugh’s wild and wacky first day of camp',\n",
       "  'date': datetime.datetime(2024, 7, 25, 0, 0),\n",
       "  'month': 7,\n",
       "  'phrase_count': 0,\n",
       "  'has_value': False,\n",
       "  'picture_filename': 'El Segundo, Wednesday, July 24, 2024 - Head Coach Jim Harbaugh talks with quarterback Justin Herbert at LA Chargers training camp at The Bolt. (Robert Gauthier/Los Angeles Times)'},\n",
       " {'title': 'U.S. men’s soccer team fades in 3-0 loss to France after 16-year Olympics absence',\n",
       "  'description': 'U.S. men’s soccer team fades in 3-0 loss to France after 16-year Olympics absence',\n",
       "  'date': datetime.datetime(2024, 7, 24, 0, 0),\n",
       "  'month': 7,\n",
       "  'phrase_count': 0,\n",
       "  'has_value': False,\n",
       "  'picture_filename': 'France celebrates after Michael Olise scored the second of three goals against the United States in the Olympics.'},\n",
       " {'title': '‘The Simpsons’ predicted Kamala Harris’ presidential run: A look at the show’s history of forecasting',\n",
       "  'description': '‘The Simpsons’ predicted Kamala Harris’ presidential run: A look at the show’s history of forecasting',\n",
       "  'date': datetime.datetime(2024, 7, 24, 0, 0),\n",
       "  'month': 7,\n",
       "  'phrase_count': 0,\n",
       "  'has_value': False,\n",
       "  'picture_filename': 'THE SIMPSONS: Grampa makes a confession to Homer while on his deathbed. After his recovery, he comes to realize that this issue will not be easy to reconcile in the “Forgive and Regret” episode of THE SIMPSONS airing Sunday, April 29 (8:00-8:30 PM ET/PT) on FOX. THE SIMPSONS ™ and © 2018 TCFFC ALL RIGHTS RESERVED.'},\n",
       " {'title': 'Paris Olympics TV schedule: Thursday’s listings',\n",
       "  'description': 'Paris Olympics TV schedule: Thursday’s listings',\n",
       "  'date': datetime.datetime(2024, 7, 24, 0, 0),\n",
       "  'month': 7,\n",
       "  'phrase_count': 0,\n",
       "  'has_value': False,\n",
       "  'picture_filename': \"United States' Rose Lavelle runs clear of Portugal's Dolores Silva, left, during the Women's World Cup.\"},\n",
       " {'title': 'Alyssa Naeher and U.S. women’s soccer looking to beat the odds and win Paris gold',\n",
       "  'description': 'Alyssa Naeher and U.S. women’s soccer looking to beat the odds and win Paris gold',\n",
       "  'date': datetime.datetime(2024, 7, 22, 0, 0),\n",
       "  'month': 7,\n",
       "  'phrase_count': 0,\n",
       "  'has_value': False,\n",
       "  'picture_filename': \"United States' Alyssa Naeher plays against Canada during a SheBelieves Cup.\"},\n",
       " {'title': 'Opinion: Venezuela’s President Nicolás Maduro could lose a landslide election. But will it matter?',\n",
       "  'description': 'Opinion: Venezuela’s President Nicolás Maduro could lose a landslide election. But will it matter?',\n",
       "  'date': datetime.datetime(2024, 7, 22, 0, 0),\n",
       "  'month': 7,\n",
       "  'phrase_count': 0,\n",
       "  'has_value': False,\n",
       "  'picture_filename': 'Venezuelan presidential candidate Edmundo Gonzalez, right, and opposition leader Maria Corina Machado parade on a truck transporting them through a crowd of supporters during a campaign rally in Valencia, Venezuela, Saturday, July 13, 2024. (AP Photo/Ariana Cubillos)'},\n",
       " {'title': 'A presidential campaign is ‘a $2-billion startup.’ If she gets the nod, Harris has 3½ months',\n",
       "  'description': 'A presidential campaign is ‘a $2-billion startup.’ If she gets the nod, Harris has 3½ months',\n",
       "  'date': datetime.datetime(2024, 7, 21, 0, 0),\n",
       "  'month': 7,\n",
       "  'phrase_count': 0,\n",
       "  'has_value': False,\n",
       "  'picture_filename': 'FILE - President Joe Biden listens as Vice President Kamala Harris speaks in the Rose Garden of the White House in Washington, May 13, 2024. With Biden ending his reelection bid and endorsing Harris, Democrats now must navigate a shift that is unprecedented this late in an election year. Democrats are set to hold their convention in Chicago in August. (AP Photo/Susan Walsh, File)'},\n",
       " {'title': 'Harris, with Biden endorsement, says she intends to ‘earn and win this nomination’',\n",
       "  'description': 'Harris, with Biden endorsement, says she intends to ‘earn and win this nomination’',\n",
       "  'date': datetime.datetime(2024, 7, 21, 0, 0),\n",
       "  'month': 7,\n",
       "  'phrase_count': 0,\n",
       "  'has_value': False,\n",
       "  'picture_filename': 'First lady Jill Biden and second gentleman Douglass Emhoff watch as President Joe Biden raises the hand of Vice President Kamala Harris as they view the Independence Day firework display over the National Mall from the balcony of the White House, Thursday, July 4, 2024, in Washington. (AP Photo/Evan Vucci)'},\n",
       " {'title': 'Editorial: Musk and the GOP like to trash California. But they couldn’t get by without us',\n",
       "  'description': 'Editorial: Musk and the GOP like to trash California. But they couldn’t get by without us',\n",
       "  'date': datetime.datetime(2024, 7, 18, 0, 0),\n",
       "  'month': 7,\n",
       "  'phrase_count': 0,\n",
       "  'has_value': False,\n",
       "  'picture_filename': 'HAWTHORNE, CA - JULY 17, 2024 - SpaceX in Hawthorne on July 17, 2024. Elon Musk said Tuesday on X that he is moving the headquarters of both SpaceX and the social media platform formerly known as Twitter to Texas - citing several criticisms he has of California. (Genaro Molina/Los Angeles Times)'},\n",
       " {'title': 'The Sports Report: Shohei Ohtani shows why he’s an All-Star',\n",
       "  'description': 'The Sports Report: Shohei Ohtani shows why he’s an All-Star',\n",
       "  'date': datetime.datetime(2024, 7, 17, 0, 0),\n",
       "  'month': 7,\n",
       "  'phrase_count': 0,\n",
       "  'has_value': False,\n",
       "  'picture_filename': \"National League's Shohei Ohtani, of the Los Angeles Dodgers, runs the bases after hitting a home run during the third inning of the MLB All-Star baseball game, Tuesday, July 16, 2024, in Arlington, Texas. Jurickson Profar, of the San Diego Padres, and Ketel Marte, of the Arizona Diamondbacks, also scored. (AP Photo/LM Otero)\"},\n",
       " {'title': 'Here’s every record ‘Inside Out 2’ has broken at the box office',\n",
       "  'description': 'Here’s every record ‘Inside Out 2’ has broken at the box office',\n",
       "  'date': datetime.datetime(2024, 7, 24, 0, 0),\n",
       "  'month': 7,\n",
       "  'phrase_count': 0,\n",
       "  'has_value': False,\n",
       "  'picture_filename': 'A scene from Inside Out 2.'},\n",
       " {'title': 'Inside the legal drama embroiling a Pasadena startup that grossed billions selling COVID tests',\n",
       "  'description': 'Inside the legal drama embroiling a Pasadena startup that grossed billions selling COVID tests',\n",
       "  'date': datetime.datetime(2024, 7, 17, 0, 0),\n",
       "  'month': 7,\n",
       "  'phrase_count': 0,\n",
       "  'has_value': False,\n",
       "  'picture_filename': \"Pasadena, CA - July 23: Innova Medical Group, a start-up that hit a goldmine with a test for Covid-19. It has won contracts from the British government worth as much as $4 billion. Recently the Food and Drug Administration warned Americans not to use the test. Innova has not been able to convince U.S. regulators that the test is accurate. But that hasn't stopped the company from spending heavily as the money comes in from the British government. Innova Medical Group office headquarters in a luxury office building on 800 E. Colorado Blvd. on Friday, July 23, 2021 in Pasadena, CA. (Irfan Khan / Los Angeles Times)\"},\n",
       " {'title': 'Republicans are mentioning ‘Ka-MAL-a’ a lot. But Trump shooting lowers pressure on Biden to drop out',\n",
       "  'description': 'Republicans are mentioning ‘Ka-MAL-a’ a lot. But Trump shooting lowers pressure on Biden to drop out',\n",
       "  'date': datetime.datetime(2024, 7, 16, 0, 0),\n",
       "  'month': 7,\n",
       "  'phrase_count': 0,\n",
       "  'has_value': False,\n",
       "  'picture_filename': 'President Joe Biden speaks from the Roosevelt Room of the White House in Washington, Sunday, July 14, 2024, about the apparent assassination attempt of former President Donald Trump at a campaign rally in Pennsylvania, as Vice President Kamala Harris listens. (AP Photo/Susan Walsh)'},\n",
       " {'title': 'The Sports Report: Teoscar Hernández is the Home Run Derby king',\n",
       "  'description': 'The Sports Report: Teoscar Hernández is the Home Run Derby king',\n",
       "  'date': datetime.datetime(2024, 7, 16, 0, 0),\n",
       "  'month': 7,\n",
       "  'phrase_count': 0,\n",
       "  'has_value': False,\n",
       "  'picture_filename': \"National League's Teoscar Hernández, of the Los Angeles Dodgers, poses for photos with the winner's trophy after the MLB baseball All-Star Home Run Derby, Monday, July 15, 2024, in Arlington, Texas. (AP Photo/Julio Cortez)\"},\n",
       " {'title': '‘Despicable Me 4,’ ‘Longlegs’ lead box office to another strong weekend',\n",
       "  'description': '‘Despicable Me 4,’ ‘Longlegs’ lead box office to another strong weekend',\n",
       "  'date': datetime.datetime(2024, 7, 14, 0, 0),\n",
       "  'month': 7,\n",
       "  'phrase_count': 0,\n",
       "  'has_value': False,\n",
       "  'picture_filename': 'This image released by Neon shows Maika Monroe in a scene from \"Longlegs.\" (Neon via AP)'},\n",
       " {'title': 'World population is projected to grow from 8.2 billion to a peak of 10.3 billion in 2080s, U.N. says',\n",
       "  'description': 'World population is projected to grow from 8.2 billion to a peak of 10.3 billion in 2080s, U.N. says',\n",
       "  'date': datetime.datetime(2024, 7, 12, 0, 0),\n",
       "  'month': 7,\n",
       "  'phrase_count': 0,\n",
       "  'has_value': False,\n",
       "  'picture_filename': 'FILE - People take smartphone photos of the crowd on a street near Tiananmen Square as visitors gather to watch a flag-raising ceremony on the National Day in Beijing, Sunday, Oct. 1, 2023. The world’s population is expected to grow by more than 2 billion people in the next decades and peak in the 2080s at around 10.3 billion, a new report by the United Nations said Thursday July 11, 2024. (AP Photo/Andy Wong, File)'},\n",
       " {'title': 'The Sports Report: Lots of questions, not many answers for Dodgers',\n",
       "  'description': 'The Sports Report: Lots of questions, not many answers for Dodgers',\n",
       "  'date': datetime.datetime(2024, 7, 12, 0, 0),\n",
       "  'month': 7,\n",
       "  'phrase_count': 0,\n",
       "  'has_value': False,\n",
       "  'picture_filename': \"Los Angeles Dodgers' Dave Roberts prepares before a baseball game, Thursday, July 11, 2024, in Philadelphia. (AP Photo/Matt Slocum)\"},\n",
       " {'title': 'U.S. sanctions Venezuela gang for spreading criminal activity across Latin America',\n",
       "  'description': 'U.S. sanctions Venezuela gang for spreading criminal activity across Latin America',\n",
       "  'date': datetime.datetime(2024, 7, 11, 0, 0),\n",
       "  'month': 7,\n",
       "  'phrase_count': 0,\n",
       "  'has_value': False,\n",
       "  'picture_filename': 'Venezuelan President Nicolas Maduro throws a cap to supporters during a campaign rally in the Boulevard of Coche in Caracas, Venezuela, Monday, July 8, 2024. (AP Photo/Ariana Cubillos)'},\n",
       " {'title': 'Inside the Chargers’ lavish new practice facility in El Segundo',\n",
       "  'description': 'Inside the Chargers’ lavish new practice facility in El Segundo',\n",
       "  'date': datetime.datetime(2024, 7, 11, 0, 0),\n",
       "  'month': 7,\n",
       "  'phrase_count': 0,\n",
       "  'has_value': False,\n",
       "  'picture_filename': 'El Segundo, CA, Monday, July 8, 2024 - Strong diverse angles of walls, windows, rooms and stairs are featured in the architecture at \"The Bolt,\" the newly constructed home of the LA Chargers. (Robert Gauthier/Los Angeles Times)'},\n",
       " {'title': 'The Sports Report: For LeBron James, taking less pay was a noble gesture',\n",
       "  'description': 'The Sports Report: For LeBron James, taking less pay was a noble gesture',\n",
       "  'date': datetime.datetime(2024, 7, 8, 0, 0),\n",
       "  'month': 7,\n",
       "  'phrase_count': 0,\n",
       "  'has_value': False,\n",
       "  'picture_filename': 'LOS ANGELES, CA - OCTOBER 2, 2023 - Los Angeles Lakers star LeBron James enjoys.'},\n",
       " {'title': 'AI is learning from what you said on Reddit, Stack Overflow or Facebook. Are you OK with that?',\n",
       "  'description': 'AI is learning from what you said on Reddit, Stack Overflow or Facebook. Are you OK with that?',\n",
       "  'date': datetime.datetime(2024, 7, 8, 0, 0),\n",
       "  'month': 7,\n",
       "  'phrase_count': 0,\n",
       "  'has_value': False,\n",
       "  'picture_filename': 'Stack Overflow CEO Prashanth Chandrasekar poses on May 21, 2024, in Cambridge, Mass. Chandrasekar said the company is trying to balance rising demand for instant chatbot-generated coding assistance with the desire for a community \"knowledge base\" where people still want to post and \"get recognized\" for what they\\'ve contributed. (AP Photo/Matt O\\'Brien)'},\n",
       " {'title': 'Giannis Antetokounmpo is finally an Olympian as Greece qualifies for Paris Games',\n",
       "  'description': 'Giannis Antetokounmpo is finally an Olympian as Greece qualifies for Paris Games',\n",
       "  'date': datetime.datetime(2024, 7, 7, 0, 0),\n",
       "  'month': 7,\n",
       "  'phrase_count': 0,\n",
       "  'has_value': False,\n",
       "  'picture_filename': \"Greece's Giannis Antetokounmpo, right, is challenged by Croatia's Ivica Zubac, during a FIBA Olympic Qualifying basketball final, at the Peace and Friendship stadium, at Athens' port city of Piraeus, Sunday, July 7, 2024. (AP Photo/Petros Giannakouris)\"},\n",
       " {'title': 'Brazil’s Bolsonaro formally accused of money laundering for diamonds from Saudi Arabia',\n",
       "  'description': 'Brazil’s Bolsonaro formally accused of money laundering for diamonds from Saudi Arabia',\n",
       "  'date': datetime.datetime(2024, 7, 5, 0, 0),\n",
       "  'month': 7,\n",
       "  'phrase_count': 2,\n",
       "  'has_value': False,\n",
       "  'picture_filename': \"FILE - This photo provided by Brazil's Federal Revenue Department shows jewelry, part of an investigation into gifts received by ex-President Jair Bolsonaro during his term, seized by customs authorities at Guarulhos International Airport in Sao Paulo, Brazil, the week of March 24, 2023. Brazilian police indicted Bolsonaro on Thursday, July 4, 2024, for money laundering and criminal association, sources say. (Brazil's Federal Revenue Department via AP, File)\"},\n",
       " {'title': 'The Sports Report: It’s official: Lakers’ offseason has been terrible',\n",
       "  'description': 'The Sports Report: It’s official: Lakers’ offseason has been terrible',\n",
       "  'date': datetime.datetime(2024, 7, 4, 0, 0),\n",
       "  'month': 7,\n",
       "  'phrase_count': 0,\n",
       "  'has_value': False,\n",
       "  'picture_filename': 'oLOS ANGELES, CA - JULY 02: Lebron James watches as the Los Angeles Lakers introduce 2024 NBA draft picks Dalton Knecht and Bronny James at UCLA Health Training Center on Tuesday, July 2, 2024 in Los Angeles, CA. (Robert Gauthier / For The Times)'},\n",
       " {'title': 'Kamala Harris faces political pressure — and opportunity — as Biden struggles',\n",
       "  'description': 'Kamala Harris faces political pressure — and opportunity — as Biden struggles',\n",
       "  'date': datetime.datetime(2024, 7, 3, 0, 0),\n",
       "  'month': 7,\n",
       "  'phrase_count': 0,\n",
       "  'has_value': False,\n",
       "  'picture_filename': 'Vice President Kamala Harris speaks during a post debate campaign rally, Friday, June 28, 2024, in Las Vegas. (AP Photo/Ronda Churchill)'},\n",
       " {'title': 'The Sports Report: UCLA’s DeShaun Foster reopens the door to high school recruits',\n",
       "  'description': 'The Sports Report: UCLA’s DeShaun Foster reopens the door to high school recruits',\n",
       "  'date': datetime.datetime(2024, 7, 2, 0, 0),\n",
       "  'month': 7,\n",
       "  'phrase_count': 0,\n",
       "  'has_value': False,\n",
       "  'picture_filename': 'Pasadena, CA - April 27: Head coach DeShaun Foster of the UCLA Bruins looks on during the UCLA football spring showcase at the Rose Bowl Stadium on Saturday, April 27, 2024 in Pasadena, CA.(Meg Oliphant / For the Times)'},\n",
       " {'title': 'Ynon Kreiz: The CEO Mattel (and Hollywood) needed in the darkest hour',\n",
       "  'description': 'Ynon Kreiz: The CEO Mattel (and Hollywood) needed in the darkest hour',\n",
       "  'date': datetime.datetime(2024, 6, 30, 0, 0),\n",
       "  'month': 6,\n",
       "  'phrase_count': 0,\n",
       "  'has_value': False,\n",
       "  'picture_filename': 'EL SEGUNDO-CA-NOVEMBER 29, 2023: Ynon Kreiz is photographed in El Segundo on November 29, 2023. DO NOT PUBLISH. FOR THE POWER LIST PROJECT ONLY. (Christina House / Los Angeles Times)'},\n",
       " {'title': 'Judge acquits 28 people accused in ‘Panama Papers’ case, including law firm co-founder',\n",
       "  'description': 'Judge acquits 28 people accused in ‘Panama Papers’ case, including law firm co-founder',\n",
       "  'date': datetime.datetime(2024, 6, 29, 0, 0),\n",
       "  'month': 6,\n",
       "  'phrase_count': 0,\n",
       "  'has_value': False,\n",
       "  'picture_filename': 'FILE - Juergen Mossack, partner of the law firm Mossack-Fonseca, leaves the Supreme Court during the trial of the \"Panama Papers\" money laundering case in Panama City, April 8, 2024. On Friday, a Panamanian judge acquitted Mossack and 27 other people who were accused of money laundering in the notorious Panama Papers case. (AP Photo/Agustin Herrera, File)'},\n",
       " {'title': 'Commentary: Copa América loss to Venezuela is a new low for Mexico’s national team',\n",
       "  'description': 'Commentary: Copa América loss to Venezuela is a new low for Mexico’s national team',\n",
       "  'date': datetime.datetime(2024, 6, 27, 0, 0),\n",
       "  'month': 6,\n",
       "  'phrase_count': 0,\n",
       "  'has_value': False,\n",
       "  'picture_filename': 'Mexico coach Jaime Lozano makes a face on the sidelines during a Copa America Group B soccer match against Venezuela, Wednesday, June 26, 2024, in Inglewood, Calif. (AP Photo/Mark J. Terrill)'},\n",
       " {'title': 'The Sports Report: Shohei Ohtani slugs Dodgers to victory',\n",
       "  'description': 'The Sports Report: Shohei Ohtani slugs Dodgers to victory',\n",
       "  'date': datetime.datetime(2024, 6, 26, 0, 0),\n",
       "  'month': 6,\n",
       "  'phrase_count': 0,\n",
       "  'has_value': False,\n",
       "  'picture_filename': \"Los Angeles Dodgers' Shohei Ohtani, left, rounds third towards third base coach Dino Ebel on a home run off Chicago White Sox starting pitcher Chris Flexen during the first inning of a baseball game Tuesday, June 25, 2024, in Chicago. (AP Photo/Charles Rex Arbogast)\"},\n",
       " {'title': 'Brazil’s Supreme Court decriminalizes possession of marijuana for personal use',\n",
       "  'description': 'Brazil’s Supreme Court decriminalizes possession of marijuana for personal use',\n",
       "  'date': datetime.datetime(2024, 6, 25, 0, 0),\n",
       "  'month': 6,\n",
       "  'phrase_count': 1,\n",
       "  'has_value': False,\n",
       "  'picture_filename': 'FILE - Supreme Court justices preside over a trial in Brasilia, Brazil, June 30, 2023. Brazil’s Supreme Court on Tuesday, June 25, 2024, moved toward decriminalizing possession of marijuana for personal use. (AP Photo/Eraldo Peres, File)'},\n",
       " {'title': 'SoFi Stadium passes the grass and atmosphere test among players as World Cup looms',\n",
       "  'description': 'SoFi Stadium passes the grass and atmosphere test among players as World Cup looms',\n",
       "  'date': datetime.datetime(2024, 6, 25, 0, 0),\n",
       "  'month': 6,\n",
       "  'phrase_count': 1,\n",
       "  'has_value': False,\n",
       "  'picture_filename': 'Brazil and Costa Rica play to a 0-0 draw in a Copa America Group D soccer match.'},\n",
       " {'title': 'The Sports Report: The Lakers explain why they hired JJ Redick',\n",
       "  'description': 'The Sports Report: The Lakers explain why they hired JJ Redick',\n",
       "  'date': datetime.datetime(2024, 6, 25, 0, 0),\n",
       "  'month': 6,\n",
       "  'phrase_count': 0,\n",
       "  'has_value': False,\n",
       "  'picture_filename': 'Lakers coach JJ Redick fields questions during his introductory news conference.'},\n",
       " {'title': 'Copa América: Costa Rica and Brazil play to scoreless draw at SoFi Stadium',\n",
       "  'description': 'Copa América: Costa Rica and Brazil play to scoreless draw at SoFi Stadium',\n",
       "  'date': datetime.datetime(2024, 6, 24, 0, 0),\n",
       "  'month': 6,\n",
       "  'phrase_count': 2,\n",
       "  'has_value': False,\n",
       "  'picture_filename': \"Brazil's Lucas Paqueta, left, and Costa Rica's Julio Cascante battle for the ball.\"},\n",
       " {'title': 'The Sports Report: Swimming at SoFi? Check out the new L.A. Olympics venues',\n",
       "  'description': 'The Sports Report: Swimming at SoFi? Check out the new L.A. Olympics venues',\n",
       "  'date': datetime.datetime(2024, 6, 24, 0, 0),\n",
       "  'month': 6,\n",
       "  'phrase_count': 0,\n",
       "  'has_value': False,\n",
       "  'picture_filename': \"An artist's rendering of the 2028 Los Angeles Olympics swimming venue at SoFi Stadium in Inglewood.\"},\n",
       " {'title': 'Christian Pulisic leads U.S. to victory over Bolivia in Copa América opener',\n",
       "  'description': 'Christian Pulisic leads U.S. to victory over Bolivia in Copa América opener',\n",
       "  'date': datetime.datetime(2024, 6, 23, 0, 0),\n",
       "  'month': 6,\n",
       "  'phrase_count': 0,\n",
       "  'has_value': False,\n",
       "  'picture_filename': \"Christian Pulisic of the United States is grabbed by Bolivia's Hector Cuellar as they chase the ball.\"},\n",
       " {'title': 'Bitter political fight in Bolivia is paralyzing the government',\n",
       "  'description': 'Bitter political fight in Bolivia is paralyzing the government',\n",
       "  'date': datetime.datetime(2024, 6, 23, 0, 0),\n",
       "  'month': 6,\n",
       "  'phrase_count': 0,\n",
       "  'has_value': False,\n",
       "  'picture_filename': 'FILE - A supporter attends the Movement for Socialism or MAS party convention to elect a new leader to replace former President Evo Morales, in El Alto, Bolivia, May 4, 2024. President Luis Arce and his one-time ally, ex-President Evo Morales, are battling for the future of MAS ahead of the presidential election in 2025. (AP Photo/Juan Karita, File)'},\n",
       " {'title': 'The Sports Report: The Lakers hire JJ Redick as coach. Why?',\n",
       "  'description': 'The Sports Report: The Lakers hire JJ Redick as coach. Why?',\n",
       "  'date': datetime.datetime(2024, 6, 21, 0, 0),\n",
       "  'month': 6,\n",
       "  'phrase_count': 0,\n",
       "  'has_value': False,\n",
       "  'picture_filename': 'BOSTON, MA - JUNE 14: JJ Redick smiles before the game between the Boston Celtics.'},\n",
       " {'title': 'The jacarandas are blooming! Do you know the person who is credited with popularizing them in California?',\n",
       "  'description': 'The jacarandas are blooming! Do you know the person who is credited with popularizing them in California?',\n",
       "  'date': datetime.datetime(2024, 6, 19, 0, 0),\n",
       "  'month': 6,\n",
       "  'phrase_count': 0,\n",
       "  'has_value': False,\n",
       "  'picture_filename': 'A man stands in a street under a Jacaranda tree'},\n",
       " {'title': 'Copa América 2024 bigger than European Championship? Lionel Messi knows it is',\n",
       "  'description': 'Copa América 2024 bigger than European Championship? Lionel Messi knows it is',\n",
       "  'date': datetime.datetime(2024, 6, 19, 0, 0),\n",
       "  'month': 6,\n",
       "  'phrase_count': 0,\n",
       "  'has_value': False,\n",
       "  'picture_filename': 'Argentina forward Lionel Messi in action during the second half of an international friendly.'},\n",
       " {'title': 'The Sports Report: Dodgers win, but lose Mookie Betts to a broken hand',\n",
       "  'description': 'The Sports Report: Dodgers win, but lose Mookie Betts to a broken hand',\n",
       "  'date': datetime.datetime(2024, 6, 17, 0, 0),\n",
       "  'month': 6,\n",
       "  'phrase_count': 0,\n",
       "  'has_value': False,\n",
       "  'picture_filename': \"Los Angeles Dodgers' Mookie Betts, right, is hit by a pitch as Kansas City Royals.\"},\n",
       " {'title': 'Nearly 80 countries at Swiss summit agree Ukraine’s ‘territorial integrity’ is key to peace',\n",
       "  'description': 'Nearly 80 countries at Swiss summit agree Ukraine’s ‘territorial integrity’ is key to peace',\n",
       "  'date': datetime.datetime(2024, 6, 16, 0, 0),\n",
       "  'month': 6,\n",
       "  'phrase_count': 0,\n",
       "  'has_value': False,\n",
       "  'picture_filename': \"Ukraine's President Volodymyr Zelenskyy hugs with Canada Prime Minister Justin Trudeau during the closing press conference of the Ukraine peace summit in Obbürgen, Switzerland, Sunday, June 16, 2024. Switzerland is hosting scores of world leaders this weekend to try to map out the first steps toward peace in Ukraine. (AP Photo/Laurent Cipriani)\"},\n",
       " {'title': 'U.S. supports ‘a just and lasting peace’ for Ukraine, Harris tells Zelensky at summit',\n",
       "  'description': 'U.S. supports ‘a just and lasting peace’ for Ukraine, Harris tells Zelensky at summit',\n",
       "  'date': datetime.datetime(2024, 6, 15, 0, 0),\n",
       "  'month': 6,\n",
       "  'phrase_count': 0,\n",
       "  'has_value': False,\n",
       "  'picture_filename': 'US Vice President Kamala Harris touches the arm of Ukrainian President Volodymyr Zelensky.'},\n",
       " {'title': 'The best spots to see 58,000 jacaranda trees in L.A., O.C.',\n",
       "  'description': 'The best spots to see 58,000 jacaranda trees in L.A., O.C.',\n",
       "  'date': datetime.datetime(2024, 6, 14, 0, 0),\n",
       "  'month': 6,\n",
       "  'phrase_count': 0,\n",
       "  'has_value': False,\n",
       "  'picture_filename': 'LONG BEACH-CA-MAY 28, 2024: Jacarandas in bloom in Long Beach on May 28, 2024. (Christina House / Los Angeles Times)'},\n",
       " {'title': 'The Sports Report: Another embarrassing turn of events for the Lakers',\n",
       "  'description': 'The Sports Report: Another embarrassing turn of events for the Lakers',\n",
       "  'date': datetime.datetime(2024, 6, 11, 0, 0),\n",
       "  'month': 6,\n",
       "  'phrase_count': 0,\n",
       "  'has_value': False,\n",
       "  'picture_filename': 'UConn head coach Dan Hurley during a Sweet 16 college basketball game.'},\n",
       " {'title': 'About 90 countries to take part in Swiss-hosted Ukraine peace summit. Russia won’t attend',\n",
       "  'description': 'About 90 countries to take part in Swiss-hosted Ukraine peace summit. Russia won’t attend',\n",
       "  'date': datetime.datetime(2024, 6, 10, 0, 0),\n",
       "  'month': 6,\n",
       "  'phrase_count': 0,\n",
       "  'has_value': False,\n",
       "  'picture_filename': 'Swiss Federal Councillor Ignazio Cassis, right, and Swiss Federal Councillor Viola Amherd take part in a media conference on the peace conference in Bern, Switzerland,Monday, June 10, 2024. Switzerland’s president says nearly 90 countries and organizations, half from Europe, have confirmed attending the Swiss-hosted Ukraine peace summit on June 15-16 despite Russia’s refusal to participate. Viola Amherd told reporters Monday that the summit will aim to chart a path toward possible peace nearly 28 months after Russian forces invaded Ukraine. (Peter Schneider/Keystone via AP)'},\n",
       " {'title': 'Amboy, population 0 — a Mojave Desert ghost town and Americana icon fights to survive',\n",
       "  'description': 'Amboy, population 0 — a Mojave Desert ghost town and Americana icon fights to survive',\n",
       "  'date': datetime.datetime(2024, 6, 9, 0, 0),\n",
       "  'month': 6,\n",
       "  'phrase_count': 0,\n",
       "  'has_value': False,\n",
       "  'picture_filename': \"AMBOY, CA - MAY 24, 2024: Joan and Kirk Bullard sit under the awning of the Roy's gas station and cafe on May 24, 2024 in Amboy, California. (Gina Ferazzi / Los Angeles Times)\"},\n",
       " {'title': 'Column: What is the state of opera in L.A.? OperaFest LA tells only half the story',\n",
       "  'description': 'Column: What is the state of opera in L.A.? OperaFest LA tells only half the story',\n",
       "  'date': datetime.datetime(2024, 6, 6, 0, 0),\n",
       "  'month': 6,\n",
       "  'phrase_count': 0,\n",
       "  'has_value': False,\n",
       "  'picture_filename': 'Pacific Opera Project \"Madama Butterfly\"'},\n",
       " {'title': 'Tired and confused, first migrants reach California border after Biden’s asylum order',\n",
       "  'description': 'Tired and confused, first migrants reach California border after Biden’s asylum order',\n",
       "  'date': datetime.datetime(2024, 6, 5, 0, 0),\n",
       "  'month': 6,\n",
       "  'phrase_count': 0,\n",
       "  'has_value': False,\n",
       "  'picture_filename': 'Tijuana, Mexico, Tuesday, June 4, 2024 - Children pass the time at Movimiento Juventud 2000, a migrant shelter, where dozens of families seeking asylum are living as they wait to meet with US officials. (Robert Gauthier/Los Angeles Times)'},\n",
       " {'title': 'Earth breaks heat and CO₂ records once again: ‘Our planet is trying to tell us something’',\n",
       "  'description': 'Earth breaks heat and CO₂ records once again: ‘Our planet is trying to tell us something’',\n",
       "  'date': datetime.datetime(2024, 6, 5, 0, 0),\n",
       "  'month': 6,\n",
       "  'phrase_count': 0,\n",
       "  'has_value': False,\n",
       "  'picture_filename': 'A Pakistani youth, right, cools off under a hand pump at sunset during hot weather in Lahore, Pakistan, Tuesday, May 28, 2024. (AP Photo/K.M. Chaudary)'},\n",
       " {'title': 'President Milei’s surprising devotion to Judaism and Israel provokes tension in Argentina, beyond',\n",
       "  'description': 'President Milei’s surprising devotion to Judaism and Israel provokes tension in Argentina, beyond',\n",
       "  'date': datetime.datetime(2024, 6, 4, 0, 0),\n",
       "  'month': 6,\n",
       "  'phrase_count': 0,\n",
       "  'has_value': False,\n",
       "  'picture_filename': \"FILE- Argentine President Javier Milei prays at the Western Wall in Jerusalem's Old City, Feb. 6, 2024. Although born and raised Roman Catholic, Milei has increasingly shown public interest in Judaism and even expressed intentions to convert. (AP Photo/Leo Correa, File)\"},\n",
       " {'title': 'Cyndi Lauper sets four California shows as she plans to kick off farewell tour this fall',\n",
       "  'description': 'Cyndi Lauper sets four California shows as she plans to kick off farewell tour this fall',\n",
       "  'date': datetime.datetime(2024, 6, 3, 0, 0),\n",
       "  'month': 6,\n",
       "  'phrase_count': 0,\n",
       "  'has_value': False,\n",
       "  'picture_filename': 'Cyndi Lauper in a gray bob, large earrings and a black suit with white ruffle trim on the sleeve'},\n",
       " {'title': 'U.N. official highlights how better preparation has shrunk disaster deaths despite worsening climate',\n",
       "  'description': 'U.N. official highlights how better preparation has shrunk disaster deaths despite worsening climate',\n",
       "  'date': datetime.datetime(2024, 6, 1, 0, 0),\n",
       "  'month': 6,\n",
       "  'phrase_count': 0,\n",
       "  'has_value': False,\n",
       "  'picture_filename': 'FILE - A polling official enjoys a cooling spray of water under intense heat at a distribution venue for Electronic Voting Machines (EVMs) and other election material on the eve of the fifth phase of polling in the six-week-long national election in Lucknow, India, Sunday, May 19, 2024. A top United Nations official says even though climate change makes disasters such as cyclones, floods and droughts more intense, more frequent and striking more places, fewer people are dying from those catastrophes globally. Thats because of better warning, planning and resilience. (AP Photo/Rajesh Kumar Singh, File)'}]"
      ]
     },
     "execution_count": 2,
     "metadata": {},
     "output_type": "execute_result"
    }
   ],
   "source": [
    "news.ALL_DATA"
   ]
  },
  {
   "cell_type": "code",
   "execution_count": 3,
   "metadata": {},
   "outputs": [],
   "source": [
    "from RPA.Excel.Files import Files\n",
    "excel = Files()"
   ]
  },
  {
   "cell_type": "code",
   "execution_count": 4,
   "metadata": {},
   "outputs": [
    {
     "data": {
      "text/plain": [
       "<RPA.Excel.Files.XlsxWorkbook at 0x7f141c730a90>"
      ]
     },
     "execution_count": 4,
     "metadata": {},
     "output_type": "execute_result"
    }
   ],
   "source": [
    "excel.create_workbook('output/teste.xlsx')"
   ]
  },
  {
   "cell_type": "code",
   "execution_count": 7,
   "metadata": {},
   "outputs": [
    {
     "data": {
      "text/plain": [
       "['Sheet']"
      ]
     },
     "execution_count": 7,
     "metadata": {},
     "output_type": "execute_result"
    }
   ],
   "source": [
    "excel.list_worksheets()"
   ]
  },
  {
   "cell_type": "code",
   "execution_count": 12,
   "metadata": {},
   "outputs": [],
   "source": [
    "header = [\"Title\", \"Description\", \"Date\", \"Month\", \"Phrase Count\", \"Has Value\", \"Picture Filename\"]\n",
    "excel.append_rows_to_worksheet([header], \"Sheet\")\n",
    "for data in news.ALL_DATA:\n",
    "    row = [\n",
    "        data['title'],\n",
    "        data['description'],\n",
    "        data['date'],\n",
    "        data['month'],\n",
    "        data['phrase_count'],\n",
    "        data['has_value'],\n",
    "        data['picture_filename']\n",
    "    ]\n",
    "    excel.append_rows_to_worksheet([row], \"Sheet\")"
   ]
  },
  {
   "cell_type": "code",
   "execution_count": 13,
   "metadata": {},
   "outputs": [],
   "source": [
    "excel.save_workbook('output/teste.xlsx')"
   ]
  },
  {
   "cell_type": "code",
   "execution_count": null,
   "metadata": {},
   "outputs": [],
   "source": [
    "import datetime\n",
    "infos = {'topic': 'WORLD & NATION',\n",
    "  'title': 'Brazil’s Bolsonaro formally accused of money laundering for diamonds from Saudi Arabia',\n",
    "  'description': 'Former Brazilian far-right President Jair Bolsonaro is indicted by police on money laundering in connection with undeclared diamonds from Saudi Arabia.',\n",
    "  'date': datetime.datetime(2024, 7, 5, 0, 0),\n",
    "  'month': 7}"
   ]
  },
  {
   "cell_type": "code",
   "execution_count": null,
   "metadata": {},
   "outputs": [],
   "source": [
    "text = infos['title'] + infos['description']"
   ]
  },
  {
   "cell_type": "code",
   "execution_count": null,
   "metadata": {},
   "outputs": [
    {
     "data": {
      "text/plain": [
       "'Brazil’s Bolsonaro formally accused of money laundering for diamonds from Saudi ArabiaFormer Brazilian far-right President Jair Bolsonaro is indicted by police on money laundering in connection with undeclared diamonds from Saudi Arabia.'"
      ]
     },
     "execution_count": 11,
     "metadata": {},
     "output_type": "execute_result"
    }
   ],
   "source": [
    "text"
   ]
  },
  {
   "cell_type": "code",
   "execution_count": null,
   "metadata": {},
   "outputs": [
    {
     "data": {
      "text/plain": [
       "1"
      ]
     },
     "execution_count": 12,
     "metadata": {},
     "output_type": "execute_result"
    }
   ],
   "source": [
    "text.lower().count('jair')"
   ]
  },
  {
   "cell_type": "code",
   "execution_count": null,
   "metadata": {},
   "outputs": [],
   "source": [
    "news._next_page()"
   ]
  },
  {
   "cell_type": "code",
   "execution_count": null,
   "metadata": {},
   "outputs": [],
   "source": [
    "date_raw = 'Feb. 21, 2024'.replace('.','').replace(',','')"
   ]
  },
  {
   "cell_type": "code",
   "execution_count": null,
   "metadata": {},
   "outputs": [],
   "source": [
    "from datetime import datetime"
   ]
  },
  {
   "cell_type": "code",
   "execution_count": null,
   "metadata": {},
   "outputs": [
    {
     "ename": "ValueError",
     "evalue": "time data 'Feb. 21, 2024' does not match format '%b %d, %Y'",
     "output_type": "error",
     "traceback": [
      "\u001b[0;31m---------------------------------------------------------------------------\u001b[0m",
      "\u001b[0;31mValueError\u001b[0m                                Traceback (most recent call last)",
      "Cell \u001b[0;32mIn[26], line 1\u001b[0m\n\u001b[0;32m----> 1\u001b[0m \u001b[43mdatetime\u001b[49m\u001b[38;5;241;43m.\u001b[39;49m\u001b[43mstrptime\u001b[49m\u001b[43m(\u001b[49m\u001b[43mdate_raw\u001b[49m\u001b[43m,\u001b[49m\u001b[43m \u001b[49m\u001b[38;5;124;43m'\u001b[39;49m\u001b[38;5;124;43m%\u001b[39;49m\u001b[38;5;124;43mb \u001b[39;49m\u001b[38;5;132;43;01m%d\u001b[39;49;00m\u001b[38;5;124;43m, \u001b[39;49m\u001b[38;5;124;43m%\u001b[39;49m\u001b[38;5;124;43mY\u001b[39;49m\u001b[38;5;124;43m'\u001b[39;49m\u001b[43m)\u001b[49m\n",
      "File \u001b[0;32m/usr/lib/python3.8/_strptime.py:568\u001b[0m, in \u001b[0;36m_strptime_datetime\u001b[0;34m(cls, data_string, format)\u001b[0m\n\u001b[1;32m    565\u001b[0m \u001b[38;5;28;01mdef\u001b[39;00m \u001b[38;5;21m_strptime_datetime\u001b[39m(\u001b[38;5;28mcls\u001b[39m, data_string, \u001b[38;5;28mformat\u001b[39m\u001b[38;5;241m=\u001b[39m\u001b[38;5;124m\"\u001b[39m\u001b[38;5;132;01m%a\u001b[39;00m\u001b[38;5;124m \u001b[39m\u001b[38;5;124m%\u001b[39m\u001b[38;5;124mb \u001b[39m\u001b[38;5;132;01m%d\u001b[39;00m\u001b[38;5;124m \u001b[39m\u001b[38;5;124m%\u001b[39m\u001b[38;5;124mH:\u001b[39m\u001b[38;5;124m%\u001b[39m\u001b[38;5;124mM:\u001b[39m\u001b[38;5;124m%\u001b[39m\u001b[38;5;124mS \u001b[39m\u001b[38;5;124m%\u001b[39m\u001b[38;5;124mY\u001b[39m\u001b[38;5;124m\"\u001b[39m):\n\u001b[1;32m    566\u001b[0m \u001b[38;5;250m    \u001b[39m\u001b[38;5;124;03m\"\"\"Return a class cls instance based on the input string and the\u001b[39;00m\n\u001b[1;32m    567\u001b[0m \u001b[38;5;124;03m    format string.\"\"\"\u001b[39;00m\n\u001b[0;32m--> 568\u001b[0m     tt, fraction, gmtoff_fraction \u001b[38;5;241m=\u001b[39m \u001b[43m_strptime\u001b[49m\u001b[43m(\u001b[49m\u001b[43mdata_string\u001b[49m\u001b[43m,\u001b[49m\u001b[43m \u001b[49m\u001b[38;5;28;43mformat\u001b[39;49m\u001b[43m)\u001b[49m\n\u001b[1;32m    569\u001b[0m     tzname, gmtoff \u001b[38;5;241m=\u001b[39m tt[\u001b[38;5;241m-\u001b[39m\u001b[38;5;241m2\u001b[39m:]\n\u001b[1;32m    570\u001b[0m     args \u001b[38;5;241m=\u001b[39m tt[:\u001b[38;5;241m6\u001b[39m] \u001b[38;5;241m+\u001b[39m (fraction,)\n",
      "File \u001b[0;32m/usr/lib/python3.8/_strptime.py:349\u001b[0m, in \u001b[0;36m_strptime\u001b[0;34m(data_string, format)\u001b[0m\n\u001b[1;32m    347\u001b[0m found \u001b[38;5;241m=\u001b[39m format_regex\u001b[38;5;241m.\u001b[39mmatch(data_string)\n\u001b[1;32m    348\u001b[0m \u001b[38;5;28;01mif\u001b[39;00m \u001b[38;5;129;01mnot\u001b[39;00m found:\n\u001b[0;32m--> 349\u001b[0m     \u001b[38;5;28;01mraise\u001b[39;00m \u001b[38;5;167;01mValueError\u001b[39;00m(\u001b[38;5;124m\"\u001b[39m\u001b[38;5;124mtime data \u001b[39m\u001b[38;5;132;01m%r\u001b[39;00m\u001b[38;5;124m does not match format \u001b[39m\u001b[38;5;132;01m%r\u001b[39;00m\u001b[38;5;124m\"\u001b[39m \u001b[38;5;241m%\u001b[39m\n\u001b[1;32m    350\u001b[0m                      (data_string, \u001b[38;5;28mformat\u001b[39m))\n\u001b[1;32m    351\u001b[0m \u001b[38;5;28;01mif\u001b[39;00m \u001b[38;5;28mlen\u001b[39m(data_string) \u001b[38;5;241m!=\u001b[39m found\u001b[38;5;241m.\u001b[39mend():\n\u001b[1;32m    352\u001b[0m     \u001b[38;5;28;01mraise\u001b[39;00m \u001b[38;5;167;01mValueError\u001b[39;00m(\u001b[38;5;124m\"\u001b[39m\u001b[38;5;124munconverted data remains: \u001b[39m\u001b[38;5;132;01m%s\u001b[39;00m\u001b[38;5;124m\"\u001b[39m \u001b[38;5;241m%\u001b[39m\n\u001b[1;32m    353\u001b[0m                       data_string[found\u001b[38;5;241m.\u001b[39mend():])\n",
      "\u001b[0;31mValueError\u001b[0m: time data 'Feb. 21, 2024' does not match format '%b %d, %Y'"
     ]
    }
   ],
   "source": [
    "datetime.strptime(date_raw.replace('.',''), '%b %d, %Y')"
   ]
  },
  {
   "cell_type": "code",
   "execution_count": null,
   "metadata": {},
   "outputs": [],
   "source": [
    "now = datetime.now()"
   ]
  },
  {
   "cell_type": "code",
   "execution_count": null,
   "metadata": {},
   "outputs": [
    {
     "data": {
      "text/plain": [
       "'Jul'"
      ]
     },
     "execution_count": 23,
     "metadata": {},
     "output_type": "execute_result"
    }
   ],
   "source": [
    "now.strftime(\"%b\")"
   ]
  },
  {
   "cell_type": "code",
   "execution_count": null,
   "metadata": {},
   "outputs": [],
   "source": [
    "month,day, year = date_raw.split(' ')"
   ]
  },
  {
   "cell_type": "code",
   "execution_count": null,
   "metadata": {},
   "outputs": [],
   "source": [
    "    months = {'Jan': '1',\n",
    "              'Feb': '2',\n",
    "              'Mar': '3',\n",
    "              'Apr': '4',\n",
    "              'May': '5',\n",
    "              'Jun': '6',\n",
    "              'June': '6',\n",
    "              'Jul': '7',\n",
    "              'July': '7',\n",
    "              'Aug': '8',\n",
    "              'Sep': '9',\n",
    "              'Sept': '9',\n",
    "              'Oct': '10',\n",
    "              'Nov': '11',\n",
    "              'Dec': '12',\n",
    "              }\n",
    "    month,day, year = date_raw.split(' ')\n",
    "    adjusted_month = months.get(month)"
   ]
  },
  {
   "cell_type": "code",
   "execution_count": null,
   "metadata": {},
   "outputs": [
    {
     "data": {
      "text/plain": [
       "'2'"
      ]
     },
     "execution_count": 15,
     "metadata": {},
     "output_type": "execute_result"
    }
   ],
   "source": [
    "adjusted_month"
   ]
  },
  {
   "cell_type": "code",
   "execution_count": null,
   "metadata": {},
   "outputs": [],
   "source": [
    "teste = ' '.join([adjusted_month,day, year])"
   ]
  },
  {
   "cell_type": "code",
   "execution_count": null,
   "metadata": {},
   "outputs": [
    {
     "data": {
      "text/plain": [
       "datetime.datetime(2024, 2, 21, 0, 0)"
      ]
     },
     "execution_count": 20,
     "metadata": {},
     "output_type": "execute_result"
    }
   ],
   "source": [
    "datetime.strptime(teste, '%m %d %Y')"
   ]
  },
  {
   "cell_type": "code",
   "execution_count": null,
   "metadata": {},
   "outputs": [],
   "source": []
  }
 ],
 "metadata": {
  "kernelspec": {
   "display_name": "venv",
   "language": "python",
   "name": "python3"
  },
  "language_info": {
   "codemirror_mode": {
    "name": "ipython",
    "version": 3
   },
   "file_extension": ".py",
   "mimetype": "text/x-python",
   "name": "python",
   "nbconvert_exporter": "python",
   "pygments_lexer": "ipython3",
   "version": "3.8.10"
  }
 },
 "nbformat": 4,
 "nbformat_minor": 2
}
